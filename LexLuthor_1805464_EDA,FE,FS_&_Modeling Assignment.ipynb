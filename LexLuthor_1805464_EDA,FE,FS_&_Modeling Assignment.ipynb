{
 "cells": [
  {
   "cell_type": "markdown",
   "metadata": {},
   "source": [
    "# EDA, FE, FS\n",
    "\n",
    "### Submitted By - Aniket Rathi\n",
    "### Roll - 1805464\n",
    "\n",
    "### House - Lex Luthor"
   ]
  },
  {
   "cell_type": "markdown",
   "metadata": {},
   "source": [
    "# Importing Important Libraries"
   ]
  },
  {
   "cell_type": "code",
   "execution_count": 1,
   "metadata": {},
   "outputs": [],
   "source": [
    "#All the important libraries are imported. \n",
    "\n",
    "import pandas as pd\n",
    "import numpy as np\n",
    "import matplotlib.pyplot as plt\n",
    "from sklearn.svm import SVR\n",
    "import datetime as dt\n",
    "import seaborn as sns\n",
    "import xgboost as xgb\n",
    "from sklearn.preprocessing import LabelEncoder,StandardScaler,MinMaxScaler,PowerTransformer\n",
    "from sklearn.ensemble import RandomForestRegressor, AdaBoostRegressor\n",
    "from sklearn.tree import DecisionTreeRegressor\n",
    "from mlxtend.feature_selection import SequentialFeatureSelector as SFS\n",
    "from sklearn.model_selection import GridSearchCV\n",
    "from sklearn.metrics import mean_squared_error,r2_score\n",
    "import warnings\n",
    "from sklearn.linear_model import LinearRegression,Ridge\n"
   ]
  },
  {
   "cell_type": "code",
   "execution_count": 2,
   "metadata": {},
   "outputs": [],
   "source": [
    "warnings.filterwarnings(\"ignore\")"
   ]
  },
  {
   "cell_type": "markdown",
   "metadata": {},
   "source": [
    "# Importing Dataset"
   ]
  },
  {
   "cell_type": "code",
   "execution_count": 3,
   "metadata": {},
   "outputs": [
    {
     "data": {
      "text/html": [
       "<div>\n",
       "<style scoped>\n",
       "    .dataframe tbody tr th:only-of-type {\n",
       "        vertical-align: middle;\n",
       "    }\n",
       "\n",
       "    .dataframe tbody tr th {\n",
       "        vertical-align: top;\n",
       "    }\n",
       "\n",
       "    .dataframe thead th {\n",
       "        text-align: right;\n",
       "    }\n",
       "</style>\n",
       "<table border=\"1\" class=\"dataframe\">\n",
       "  <thead>\n",
       "    <tr style=\"text-align: right;\">\n",
       "      <th></th>\n",
       "      <th>business_code</th>\n",
       "      <th>cust_number</th>\n",
       "      <th>name_customer</th>\n",
       "      <th>clear_date</th>\n",
       "      <th>buisness_year</th>\n",
       "      <th>doc_id</th>\n",
       "      <th>posting_date</th>\n",
       "      <th>document_create_date</th>\n",
       "      <th>document_create_date.1</th>\n",
       "      <th>due_in_date</th>\n",
       "      <th>invoice_currency</th>\n",
       "      <th>document type</th>\n",
       "      <th>posting_id</th>\n",
       "      <th>area_business</th>\n",
       "      <th>total_open_amount</th>\n",
       "      <th>baseline_create_date</th>\n",
       "      <th>cust_payment_terms</th>\n",
       "      <th>invoice_id</th>\n",
       "      <th>isOpen</th>\n",
       "    </tr>\n",
       "  </thead>\n",
       "  <tbody>\n",
       "    <tr>\n",
       "      <th>0</th>\n",
       "      <td>U001</td>\n",
       "      <td>0200794332</td>\n",
       "      <td>COST co</td>\n",
       "      <td>2019-06-12 00:00:00</td>\n",
       "      <td>2019.0</td>\n",
       "      <td>1.929398e+09</td>\n",
       "      <td>2019-05-30</td>\n",
       "      <td>20190529</td>\n",
       "      <td>20190530</td>\n",
       "      <td>20190614.0</td>\n",
       "      <td>USD</td>\n",
       "      <td>RV</td>\n",
       "      <td>1.0</td>\n",
       "      <td>NaN</td>\n",
       "      <td>5496.68</td>\n",
       "      <td>20190530.0</td>\n",
       "      <td>NAAX</td>\n",
       "      <td>1.929398e+09</td>\n",
       "      <td>0</td>\n",
       "    </tr>\n",
       "    <tr>\n",
       "      <th>1</th>\n",
       "      <td>U001</td>\n",
       "      <td>0200780383</td>\n",
       "      <td>MEIJ</td>\n",
       "      <td>2019-04-09 00:00:00</td>\n",
       "      <td>2019.0</td>\n",
       "      <td>1.929009e+09</td>\n",
       "      <td>2019-03-22</td>\n",
       "      <td>20190322</td>\n",
       "      <td>20190322</td>\n",
       "      <td>20190406.0</td>\n",
       "      <td>USD</td>\n",
       "      <td>RV</td>\n",
       "      <td>1.0</td>\n",
       "      <td>NaN</td>\n",
       "      <td>100959.25</td>\n",
       "      <td>20190322.0</td>\n",
       "      <td>NAA8</td>\n",
       "      <td>1.929009e+09</td>\n",
       "      <td>0</td>\n",
       "    </tr>\n",
       "    <tr>\n",
       "      <th>2</th>\n",
       "      <td>U001</td>\n",
       "      <td>0200722444</td>\n",
       "      <td>PERFOR llc</td>\n",
       "      <td>2019-03-22 00:00:00</td>\n",
       "      <td>2019.0</td>\n",
       "      <td>1.928915e+09</td>\n",
       "      <td>2019-03-07</td>\n",
       "      <td>20190306</td>\n",
       "      <td>20190307</td>\n",
       "      <td>20190408.0</td>\n",
       "      <td>USD</td>\n",
       "      <td>RV</td>\n",
       "      <td>1.0</td>\n",
       "      <td>NaN</td>\n",
       "      <td>11152.70</td>\n",
       "      <td>20190307.0</td>\n",
       "      <td>NA32</td>\n",
       "      <td>1.928915e+09</td>\n",
       "      <td>0</td>\n",
       "    </tr>\n",
       "    <tr>\n",
       "      <th>3</th>\n",
       "      <td>U001</td>\n",
       "      <td>0200769623</td>\n",
       "      <td>WAL-MAR in</td>\n",
       "      <td>2020-02-21 00:00:00</td>\n",
       "      <td>2020.0</td>\n",
       "      <td>1.930475e+09</td>\n",
       "      <td>2020-02-04</td>\n",
       "      <td>20200204</td>\n",
       "      <td>20200204</td>\n",
       "      <td>20200219.0</td>\n",
       "      <td>USD</td>\n",
       "      <td>RV</td>\n",
       "      <td>1.0</td>\n",
       "      <td>NaN</td>\n",
       "      <td>30601.94</td>\n",
       "      <td>20200204.0</td>\n",
       "      <td>NAH4</td>\n",
       "      <td>1.930475e+09</td>\n",
       "      <td>0</td>\n",
       "    </tr>\n",
       "    <tr>\n",
       "      <th>4</th>\n",
       "      <td>U001</td>\n",
       "      <td>0200762950</td>\n",
       "      <td>HAR corporation</td>\n",
       "      <td>2019-10-21 00:00:00</td>\n",
       "      <td>2019.0</td>\n",
       "      <td>1.929976e+09</td>\n",
       "      <td>2019-10-08</td>\n",
       "      <td>20191006</td>\n",
       "      <td>20191008</td>\n",
       "      <td>20191023.0</td>\n",
       "      <td>USD</td>\n",
       "      <td>RV</td>\n",
       "      <td>1.0</td>\n",
       "      <td>NaN</td>\n",
       "      <td>126846.88</td>\n",
       "      <td>20191008.0</td>\n",
       "      <td>NAA8</td>\n",
       "      <td>1.929976e+09</td>\n",
       "      <td>0</td>\n",
       "    </tr>\n",
       "  </tbody>\n",
       "</table>\n",
       "</div>"
      ],
      "text/plain": [
       "  business_code cust_number    name_customer           clear_date  \\\n",
       "0          U001  0200794332          COST co  2019-06-12 00:00:00   \n",
       "1          U001  0200780383            MEIJ   2019-04-09 00:00:00   \n",
       "2          U001  0200722444       PERFOR llc  2019-03-22 00:00:00   \n",
       "3          U001  0200769623       WAL-MAR in  2020-02-21 00:00:00   \n",
       "4          U001  0200762950  HAR corporation  2019-10-21 00:00:00   \n",
       "\n",
       "   buisness_year        doc_id posting_date  document_create_date  \\\n",
       "0         2019.0  1.929398e+09   2019-05-30              20190529   \n",
       "1         2019.0  1.929009e+09   2019-03-22              20190322   \n",
       "2         2019.0  1.928915e+09   2019-03-07              20190306   \n",
       "3         2020.0  1.930475e+09   2020-02-04              20200204   \n",
       "4         2019.0  1.929976e+09   2019-10-08              20191006   \n",
       "\n",
       "   document_create_date.1  due_in_date invoice_currency document type  \\\n",
       "0                20190530   20190614.0              USD            RV   \n",
       "1                20190322   20190406.0              USD            RV   \n",
       "2                20190307   20190408.0              USD            RV   \n",
       "3                20200204   20200219.0              USD            RV   \n",
       "4                20191008   20191023.0              USD            RV   \n",
       "\n",
       "   posting_id  area_business  total_open_amount  baseline_create_date  \\\n",
       "0         1.0            NaN            5496.68            20190530.0   \n",
       "1         1.0            NaN          100959.25            20190322.0   \n",
       "2         1.0            NaN           11152.70            20190307.0   \n",
       "3         1.0            NaN           30601.94            20200204.0   \n",
       "4         1.0            NaN          126846.88            20191008.0   \n",
       "\n",
       "  cust_payment_terms    invoice_id  isOpen  \n",
       "0               NAAX  1.929398e+09       0  \n",
       "1               NAA8  1.929009e+09       0  \n",
       "2               NA32  1.928915e+09       0  \n",
       "3               NAH4  1.930475e+09       0  \n",
       "4               NAA8  1.929976e+09       0  "
      ]
     },
     "execution_count": 3,
     "metadata": {},
     "output_type": "execute_result"
    }
   ],
   "source": [
    "#importing the assigned dataset and using head() to get an overview of the dataset\n",
    "dataset = pd.read_csv('1805464.csv')\n",
    "dataset.head()"
   ]
  },
  {
   "cell_type": "code",
   "execution_count": 4,
   "metadata": {},
   "outputs": [],
   "source": [
    "# There's a spelling error in name of 1 column.\n",
    "dataset.rename(columns={'buisness_year':'business_year'},inplace=True)"
   ]
  },
  {
   "cell_type": "markdown",
   "metadata": {},
   "source": [
    "### Knowing my data"
   ]
  },
  {
   "cell_type": "code",
   "execution_count": 5,
   "metadata": {},
   "outputs": [
    {
     "name": "stdout",
     "output_type": "stream",
     "text": [
      "Shape of data:  (50000, 19) \n",
      "\n",
      "\n",
      "business_code              object\n",
      "cust_number                object\n",
      "name_customer              object\n",
      "clear_date                 object\n",
      "business_year             float64\n",
      "doc_id                    float64\n",
      "posting_date               object\n",
      "document_create_date        int64\n",
      "document_create_date.1      int64\n",
      "due_in_date               float64\n",
      "invoice_currency           object\n",
      "document type              object\n",
      "posting_id                float64\n",
      "area_business             float64\n",
      "total_open_amount         float64\n",
      "baseline_create_date      float64\n",
      "cust_payment_terms         object\n",
      "invoice_id                float64\n",
      "isOpen                      int64\n",
      "dtype: object\n"
     ]
    }
   ],
   "source": [
    "# Knowing the size of data and datatype of columns\n",
    "print(\"Shape of data: \",dataset.shape,'\\n\\n')\n",
    "print(dataset.dtypes)"
   ]
  },
  {
   "cell_type": "code",
   "execution_count": 6,
   "metadata": {},
   "outputs": [],
   "source": [
    "# As we can see my dataset has date-time column but their data-type is object\n",
    "# Hence changing their types \n",
    "\n",
    "dataset['clear_date'] = pd.to_datetime(dataset['clear_date'])\n",
    "dataset['business_year'] = pd.to_datetime(dataset['business_year'], format=\"%Y\")\n",
    "dataset['posting_date'] = pd.to_datetime(dataset['posting_date'])\n",
    "dataset['document_create_date'] = pd.to_datetime(dataset['document_create_date'], format=\"%Y%m%d\")\n",
    "dataset['document_create_date.1'] = pd.to_datetime(dataset['document_create_date.1'], format=\"%Y%m%d\")\n",
    "dataset['due_in_date'] = pd.to_datetime(dataset['due_in_date'], format=\"%Y%m%d\")\n",
    "dataset['baseline_create_date'] = pd.to_datetime(dataset['baseline_create_date'], format=\"%Y%m%d\")"
   ]
  },
  {
   "cell_type": "markdown",
   "metadata": {},
   "source": [
    "# Identifying the missing values"
   ]
  },
  {
   "cell_type": "code",
   "execution_count": 7,
   "metadata": {},
   "outputs": [
    {
     "data": {
      "text/plain": [
       "business_code                 0\n",
       "cust_number                   0\n",
       "name_customer                 0\n",
       "clear_date                 4077\n",
       "business_year                 0\n",
       "doc_id                        0\n",
       "posting_date                  0\n",
       "document_create_date          0\n",
       "document_create_date.1        0\n",
       "due_in_date                   0\n",
       "invoice_currency              0\n",
       "document type                 0\n",
       "posting_id                    0\n",
       "area_business             50000\n",
       "total_open_amount             0\n",
       "baseline_create_date          0\n",
       "cust_payment_terms            0\n",
       "invoice_id                    1\n",
       "isOpen                        0\n",
       "dtype: int64"
      ]
     },
     "execution_count": 7,
     "metadata": {},
     "output_type": "execute_result"
    }
   ],
   "source": [
    "# Seeing the amount of data null for every column in the dataset\n",
    "dataset.isnull().sum()"
   ]
  },
  {
   "cell_type": "code",
   "execution_count": 8,
   "metadata": {},
   "outputs": [],
   "source": [
    "# Dropping the row where invoice_id is null \n",
    "# Dropping the \"area_business\" column since all values are null\n",
    "\n",
    "dataset.drop(dataset.loc[dataset['invoice_id'].isnull()].index,inplace=True)\n",
    "dataset.drop('area_business',axis=1,inplace=True)"
   ]
  },
  {
   "cell_type": "markdown",
   "metadata": {},
   "source": [
    "# Finding duplicate columns & treating them"
   ]
  },
  {
   "cell_type": "code",
   "execution_count": 9,
   "metadata": {},
   "outputs": [],
   "source": [
    "# Dropping the columns\n",
    "dataset = dataset.T\n",
    "dataset.drop_duplicates(keep='last',inplace=True)\n",
    "dataset = dataset.T"
   ]
  },
  {
   "cell_type": "code",
   "execution_count": 10,
   "metadata": {},
   "outputs": [
    {
     "name": "stdout",
     "output_type": "stream",
     "text": [
      "Shape of data:  (49999, 16) \n",
      "\n",
      "\n"
     ]
    }
   ],
   "source": [
    "print(\"Shape of data: \",dataset.shape,'\\n\\n')"
   ]
  },
  {
   "cell_type": "markdown",
   "metadata": {},
   "source": [
    "# Finding constant columns"
   ]
  },
  {
   "cell_type": "code",
   "execution_count": 11,
   "metadata": {},
   "outputs": [
    {
     "data": {
      "text/plain": [
       "business_code                 6\n",
       "cust_number                1460\n",
       "name_customer              4368\n",
       "clear_date                  402\n",
       "business_year                 2\n",
       "document_create_date        507\n",
       "document_create_date.1      506\n",
       "due_in_date                 545\n",
       "invoice_currency              2\n",
       "document type                 1\n",
       "posting_id                    1\n",
       "total_open_amount         45197\n",
       "baseline_create_date        508\n",
       "cust_payment_terms           76\n",
       "invoice_id                49999\n",
       "isOpen                        2\n",
       "dtype: int64"
      ]
     },
     "execution_count": 11,
     "metadata": {},
     "output_type": "execute_result"
    }
   ],
   "source": [
    "# Finding which columns are constant, here we can see how many unique values are there in each column\n",
    "dataset.nunique()"
   ]
  },
  {
   "cell_type": "code",
   "execution_count": 12,
   "metadata": {},
   "outputs": [],
   "source": [
    "# Dropping document_type and posting_id since there's only 1 unique value which means they are constant columns\n",
    "dataset.drop(['document type','posting_id'],axis=1,inplace=True)"
   ]
  },
  {
   "cell_type": "code",
   "execution_count": 13,
   "metadata": {},
   "outputs": [
    {
     "name": "stdout",
     "output_type": "stream",
     "text": [
      "Shape of data:  (49999, 14) \n",
      "\n",
      "\n",
      "0\n"
     ]
    }
   ],
   "source": [
    "# Verifying shape of dataset and if there remain any duplicacies or not\n",
    "print(\"Shape of data: \",dataset.shape,'\\n\\n')\n",
    "print(dataset.duplicated().sum())"
   ]
  },
  {
   "cell_type": "markdown",
   "metadata": {},
   "source": [
    "# 1st Split :- Based on clear_date == null"
   ]
  },
  {
   "cell_type": "code",
   "execution_count": 14,
   "metadata": {},
   "outputs": [
    {
     "name": "stdout",
     "output_type": "stream",
     "text": [
      "Shape of data where clear_date is null:  (4077, 14)\n"
     ]
    }
   ],
   "source": [
    "# Null_Data created to store where clear_date isnull\n",
    "null_test = dataset[dataset.clear_date.isnull()].reset_index()\n",
    "\n",
    "# Dropping index column since it is an extra column added\n",
    "null_test.drop(['index'],axis=1,inplace=True)\n",
    "\n",
    "# printing shape of Null_Data to verify\n",
    "print(\"Shape of data where clear_date is null: \", null_test.shape)"
   ]
  },
  {
   "cell_type": "code",
   "execution_count": 15,
   "metadata": {},
   "outputs": [
    {
     "name": "stdout",
     "output_type": "stream",
     "text": [
      "Shape of big data:  (45922, 14)\n"
     ]
    }
   ],
   "source": [
    "# Separating data where clear_date is not null\n",
    "big_data = dataset[dataset.clear_date.notnull()].reset_index()\n",
    "\n",
    "# Dropping index column since it is an extra column added\n",
    "big_data.drop(['index'],axis=1,inplace=True)\n",
    "\n",
    "print(\"Shape of big data: \", big_data.shape) "
   ]
  },
  {
   "cell_type": "markdown",
   "metadata": {},
   "source": [
    "## Sorting the big_data on basis of document_create_date.1"
   ]
  },
  {
   "cell_type": "code",
   "execution_count": 16,
   "metadata": {},
   "outputs": [
    {
     "data": {
      "text/html": [
       "<div>\n",
       "<style scoped>\n",
       "    .dataframe tbody tr th:only-of-type {\n",
       "        vertical-align: middle;\n",
       "    }\n",
       "\n",
       "    .dataframe tbody tr th {\n",
       "        vertical-align: top;\n",
       "    }\n",
       "\n",
       "    .dataframe thead th {\n",
       "        text-align: right;\n",
       "    }\n",
       "</style>\n",
       "<table border=\"1\" class=\"dataframe\">\n",
       "  <thead>\n",
       "    <tr style=\"text-align: right;\">\n",
       "      <th></th>\n",
       "      <th>business_code</th>\n",
       "      <th>cust_number</th>\n",
       "      <th>name_customer</th>\n",
       "      <th>clear_date</th>\n",
       "      <th>business_year</th>\n",
       "      <th>document_create_date</th>\n",
       "      <th>document_create_date.1</th>\n",
       "      <th>due_in_date</th>\n",
       "      <th>invoice_currency</th>\n",
       "      <th>total_open_amount</th>\n",
       "      <th>baseline_create_date</th>\n",
       "      <th>cust_payment_terms</th>\n",
       "      <th>invoice_id</th>\n",
       "      <th>isOpen</th>\n",
       "    </tr>\n",
       "  </thead>\n",
       "  <tbody>\n",
       "    <tr>\n",
       "      <th>6229</th>\n",
       "      <td>U001</td>\n",
       "      <td>0200769623</td>\n",
       "      <td>WAL-MAR llc</td>\n",
       "      <td>2019-01-09</td>\n",
       "      <td>2019-01-01</td>\n",
       "      <td>2018-12-29</td>\n",
       "      <td>2018-12-30</td>\n",
       "      <td>2019-01-14</td>\n",
       "      <td>USD</td>\n",
       "      <td>5766.73</td>\n",
       "      <td>2018-12-30</td>\n",
       "      <td>NAH4</td>\n",
       "      <td>1.92854e+09</td>\n",
       "      <td>0</td>\n",
       "    </tr>\n",
       "    <tr>\n",
       "      <th>21600</th>\n",
       "      <td>U001</td>\n",
       "      <td>0200769623</td>\n",
       "      <td>WAL-MAR associates</td>\n",
       "      <td>2019-01-09</td>\n",
       "      <td>2019-01-01</td>\n",
       "      <td>2018-12-30</td>\n",
       "      <td>2018-12-30</td>\n",
       "      <td>2019-01-14</td>\n",
       "      <td>USD</td>\n",
       "      <td>19785.9</td>\n",
       "      <td>2018-12-30</td>\n",
       "      <td>NAH4</td>\n",
       "      <td>1.92854e+09</td>\n",
       "      <td>0</td>\n",
       "    </tr>\n",
       "    <tr>\n",
       "      <th>8246</th>\n",
       "      <td>U001</td>\n",
       "      <td>0200769623</td>\n",
       "      <td>WAL-MAR in</td>\n",
       "      <td>2019-01-09</td>\n",
       "      <td>2019-01-01</td>\n",
       "      <td>2018-12-30</td>\n",
       "      <td>2018-12-30</td>\n",
       "      <td>2019-01-14</td>\n",
       "      <td>USD</td>\n",
       "      <td>33637.8</td>\n",
       "      <td>2018-12-30</td>\n",
       "      <td>NAH4</td>\n",
       "      <td>1.92854e+09</td>\n",
       "      <td>0</td>\n",
       "    </tr>\n",
       "    <tr>\n",
       "      <th>8268</th>\n",
       "      <td>U001</td>\n",
       "      <td>0200769623</td>\n",
       "      <td>WAL-MAR llc</td>\n",
       "      <td>2019-01-11</td>\n",
       "      <td>2019-01-01</td>\n",
       "      <td>2018-12-30</td>\n",
       "      <td>2018-12-30</td>\n",
       "      <td>2019-01-14</td>\n",
       "      <td>USD</td>\n",
       "      <td>2999.92</td>\n",
       "      <td>2018-12-30</td>\n",
       "      <td>NAH4</td>\n",
       "      <td>1.92854e+09</td>\n",
       "      <td>0</td>\n",
       "    </tr>\n",
       "    <tr>\n",
       "      <th>41060</th>\n",
       "      <td>U001</td>\n",
       "      <td>0200769623</td>\n",
       "      <td>WAL-MAR co</td>\n",
       "      <td>2019-01-09</td>\n",
       "      <td>2019-01-01</td>\n",
       "      <td>2018-12-29</td>\n",
       "      <td>2018-12-30</td>\n",
       "      <td>2019-01-14</td>\n",
       "      <td>USD</td>\n",
       "      <td>50701.6</td>\n",
       "      <td>2018-12-30</td>\n",
       "      <td>NAH4</td>\n",
       "      <td>1.92854e+09</td>\n",
       "      <td>0</td>\n",
       "    </tr>\n",
       "    <tr>\n",
       "      <th>...</th>\n",
       "      <td>...</td>\n",
       "      <td>...</td>\n",
       "      <td>...</td>\n",
       "      <td>...</td>\n",
       "      <td>...</td>\n",
       "      <td>...</td>\n",
       "      <td>...</td>\n",
       "      <td>...</td>\n",
       "      <td>...</td>\n",
       "      <td>...</td>\n",
       "      <td>...</td>\n",
       "      <td>...</td>\n",
       "      <td>...</td>\n",
       "      <td>...</td>\n",
       "    </tr>\n",
       "    <tr>\n",
       "      <th>10615</th>\n",
       "      <td>U001</td>\n",
       "      <td>0200418007</td>\n",
       "      <td>AM foundation</td>\n",
       "      <td>2020-03-13</td>\n",
       "      <td>2020-01-01</td>\n",
       "      <td>2020-02-20</td>\n",
       "      <td>2020-02-27</td>\n",
       "      <td>2020-03-13</td>\n",
       "      <td>USD</td>\n",
       "      <td>1699.6</td>\n",
       "      <td>2020-02-27</td>\n",
       "      <td>NAA8</td>\n",
       "      <td>1.93055e+09</td>\n",
       "      <td>0</td>\n",
       "    </tr>\n",
       "    <tr>\n",
       "      <th>6331</th>\n",
       "      <td>U001</td>\n",
       "      <td>CCU013</td>\n",
       "      <td>KRAFT F foundation</td>\n",
       "      <td>2020-03-27</td>\n",
       "      <td>2020-01-01</td>\n",
       "      <td>2020-02-27</td>\n",
       "      <td>2020-02-27</td>\n",
       "      <td>2020-02-27</td>\n",
       "      <td>USD</td>\n",
       "      <td>15517.8</td>\n",
       "      <td>2020-02-27</td>\n",
       "      <td>NAX2</td>\n",
       "      <td>1.93058e+09</td>\n",
       "      <td>0</td>\n",
       "    </tr>\n",
       "    <tr>\n",
       "      <th>36772</th>\n",
       "      <td>U001</td>\n",
       "      <td>0200759878</td>\n",
       "      <td>SA corporation</td>\n",
       "      <td>2020-03-19</td>\n",
       "      <td>2020-01-01</td>\n",
       "      <td>2020-02-26</td>\n",
       "      <td>2020-02-27</td>\n",
       "      <td>2020-03-13</td>\n",
       "      <td>USD</td>\n",
       "      <td>14329.4</td>\n",
       "      <td>2020-02-27</td>\n",
       "      <td>NAH4</td>\n",
       "      <td>1.93057e+09</td>\n",
       "      <td>0</td>\n",
       "    </tr>\n",
       "    <tr>\n",
       "      <th>11868</th>\n",
       "      <td>CA02</td>\n",
       "      <td>0140105847</td>\n",
       "      <td>GORDON F</td>\n",
       "      <td>2020-03-13</td>\n",
       "      <td>2020-01-01</td>\n",
       "      <td>2020-02-27</td>\n",
       "      <td>2020-02-27</td>\n",
       "      <td>2020-03-16</td>\n",
       "      <td>CAD</td>\n",
       "      <td>964.74</td>\n",
       "      <td>2020-03-06</td>\n",
       "      <td>CA10</td>\n",
       "      <td>2.96062e+09</td>\n",
       "      <td>0</td>\n",
       "    </tr>\n",
       "    <tr>\n",
       "      <th>12219</th>\n",
       "      <td>U001</td>\n",
       "      <td>0200777735</td>\n",
       "      <td>NASH  us</td>\n",
       "      <td>2020-03-11</td>\n",
       "      <td>2020-01-01</td>\n",
       "      <td>2020-02-27</td>\n",
       "      <td>2020-02-27</td>\n",
       "      <td>2020-05-02</td>\n",
       "      <td>USD</td>\n",
       "      <td>47259.5</td>\n",
       "      <td>2020-02-27</td>\n",
       "      <td>NAGD</td>\n",
       "      <td>1.93058e+09</td>\n",
       "      <td>0</td>\n",
       "    </tr>\n",
       "  </tbody>\n",
       "</table>\n",
       "<p>45922 rows × 14 columns</p>\n",
       "</div>"
      ],
      "text/plain": [
       "      business_code cust_number       name_customer clear_date business_year  \\\n",
       "6229           U001  0200769623         WAL-MAR llc 2019-01-09    2019-01-01   \n",
       "21600          U001  0200769623  WAL-MAR associates 2019-01-09    2019-01-01   \n",
       "8246           U001  0200769623          WAL-MAR in 2019-01-09    2019-01-01   \n",
       "8268           U001  0200769623         WAL-MAR llc 2019-01-11    2019-01-01   \n",
       "41060          U001  0200769623          WAL-MAR co 2019-01-09    2019-01-01   \n",
       "...             ...         ...                 ...        ...           ...   \n",
       "10615          U001  0200418007       AM foundation 2020-03-13    2020-01-01   \n",
       "6331           U001      CCU013  KRAFT F foundation 2020-03-27    2020-01-01   \n",
       "36772          U001  0200759878      SA corporation 2020-03-19    2020-01-01   \n",
       "11868          CA02  0140105847           GORDON F  2020-03-13    2020-01-01   \n",
       "12219          U001  0200777735            NASH  us 2020-03-11    2020-01-01   \n",
       "\n",
       "      document_create_date document_create_date.1 due_in_date  \\\n",
       "6229            2018-12-29             2018-12-30  2019-01-14   \n",
       "21600           2018-12-30             2018-12-30  2019-01-14   \n",
       "8246            2018-12-30             2018-12-30  2019-01-14   \n",
       "8268            2018-12-30             2018-12-30  2019-01-14   \n",
       "41060           2018-12-29             2018-12-30  2019-01-14   \n",
       "...                    ...                    ...         ...   \n",
       "10615           2020-02-20             2020-02-27  2020-03-13   \n",
       "6331            2020-02-27             2020-02-27  2020-02-27   \n",
       "36772           2020-02-26             2020-02-27  2020-03-13   \n",
       "11868           2020-02-27             2020-02-27  2020-03-16   \n",
       "12219           2020-02-27             2020-02-27  2020-05-02   \n",
       "\n",
       "      invoice_currency total_open_amount baseline_create_date  \\\n",
       "6229               USD           5766.73           2018-12-30   \n",
       "21600              USD           19785.9           2018-12-30   \n",
       "8246               USD           33637.8           2018-12-30   \n",
       "8268               USD           2999.92           2018-12-30   \n",
       "41060              USD           50701.6           2018-12-30   \n",
       "...                ...               ...                  ...   \n",
       "10615              USD            1699.6           2020-02-27   \n",
       "6331               USD           15517.8           2020-02-27   \n",
       "36772              USD           14329.4           2020-02-27   \n",
       "11868              CAD            964.74           2020-03-06   \n",
       "12219              USD           47259.5           2020-02-27   \n",
       "\n",
       "      cust_payment_terms   invoice_id isOpen  \n",
       "6229                NAH4  1.92854e+09      0  \n",
       "21600               NAH4  1.92854e+09      0  \n",
       "8246                NAH4  1.92854e+09      0  \n",
       "8268                NAH4  1.92854e+09      0  \n",
       "41060               NAH4  1.92854e+09      0  \n",
       "...                  ...          ...    ...  \n",
       "10615               NAA8  1.93055e+09      0  \n",
       "6331                NAX2  1.93058e+09      0  \n",
       "36772               NAH4  1.93057e+09      0  \n",
       "11868               CA10  2.96062e+09      0  \n",
       "12219               NAGD  1.93058e+09      0  \n",
       "\n",
       "[45922 rows x 14 columns]"
      ]
     },
     "execution_count": 16,
     "metadata": {},
     "output_type": "execute_result"
    }
   ],
   "source": [
    "big_data.sort_values(by='document_create_date.1',inplace=True)\n",
    "big_data"
   ]
  },
  {
   "cell_type": "code",
   "execution_count": 17,
   "metadata": {},
   "outputs": [
    {
     "data": {
      "text/plain": [
       "business_code                 6\n",
       "cust_number                1431\n",
       "name_customer              4256\n",
       "clear_date                  402\n",
       "business_year                 2\n",
       "document_create_date        429\n",
       "document_create_date.1      425\n",
       "due_in_date                 494\n",
       "invoice_currency              2\n",
       "total_open_amount         41555\n",
       "baseline_create_date        433\n",
       "cust_payment_terms           74\n",
       "invoice_id                45922\n",
       "isOpen                        1\n",
       "dtype: int64"
      ]
     },
     "execution_count": 17,
     "metadata": {},
     "output_type": "execute_result"
    }
   ],
   "source": [
    "# Finding the unique values in big_data\n",
    "big_data.nunique()"
   ]
  },
  {
   "cell_type": "code",
   "execution_count": 18,
   "metadata": {},
   "outputs": [],
   "source": [
    "#dropping isOpen since constant\n",
    "big_data.drop(['isOpen'],axis=1,inplace=True)"
   ]
  },
  {
   "cell_type": "markdown",
   "metadata": {},
   "source": [
    "# Performing train, test & validation split on big_data"
   ]
  },
  {
   "cell_type": "code",
   "execution_count": 19,
   "metadata": {},
   "outputs": [
    {
     "data": {
      "text/plain": [
       "6888.3"
      ]
     },
     "execution_count": 19,
     "metadata": {},
     "output_type": "execute_result"
    }
   ],
   "source": [
    "# Finding 15% of the shape for spliting\n",
    "0.15*45922"
   ]
  },
  {
   "cell_type": "markdown",
   "metadata": {},
   "source": [
    "### Split Details - train=70%, test=15%, validation=15% "
   ]
  },
  {
   "cell_type": "code",
   "execution_count": 20,
   "metadata": {},
   "outputs": [
    {
     "name": "stdout",
     "output_type": "stream",
     "text": [
      "Shape of validation_set2:  (6880, 13)\n"
     ]
    }
   ],
   "source": [
    "# creating test set1\n",
    "validation_set2 = big_data.iloc[-6880:,:]\n",
    "validation_set2.reset_index(inplace=True)\n",
    "validation_set2.drop('index',axis=1,inplace=True)\n",
    "print(\"Shape of validation_set2: \",validation_set2.shape)"
   ]
  },
  {
   "cell_type": "code",
   "execution_count": 21,
   "metadata": {},
   "outputs": [
    {
     "name": "stdout",
     "output_type": "stream",
     "text": [
      "Shape of validation_set1:  (6880, 13)\n"
     ]
    }
   ],
   "source": [
    "#creating validation set1\n",
    "validation_set1 = big_data.iloc[-13760:-6880,:]\n",
    "validation_set1.reset_index(inplace=True)\n",
    "validation_set1.drop('index',axis=1,inplace=True)\n",
    "print(\"Shape of validation_set1: \",validation_set1.shape)"
   ]
  },
  {
   "cell_type": "code",
   "execution_count": 22,
   "metadata": {},
   "outputs": [
    {
     "name": "stdout",
     "output_type": "stream",
     "text": [
      "Shape of train_set:  (32162, 13)\n"
     ]
    }
   ],
   "source": [
    "#creating train set\n",
    "train_set = big_data.iloc[:-13760:,:]\n",
    "train_set.reset_index(inplace=True)\n",
    "train_set.drop('index',axis=1,inplace=True)\n",
    "print(\"Shape of train_set: \",train_set.shape)"
   ]
  },
  {
   "cell_type": "markdown",
   "metadata": {},
   "source": [
    "# Creating delay column"
   ]
  },
  {
   "cell_type": "markdown",
   "metadata": {},
   "source": [
    "#### Creating delay column by performing clear_date-due_in_date"
   ]
  },
  {
   "cell_type": "code",
   "execution_count": 23,
   "metadata": {},
   "outputs": [],
   "source": [
    "train_set['delay'] = train_set.apply(lambda row: (row['clear_date'] - row['due_in_date']), axis=1)\n",
    "validation_set1['delay'] = validation_set1.apply(lambda row: (row['clear_date'] - row['due_in_date']), axis=1)\n",
    "validation_set2['delay'] = validation_set2.apply(lambda row: (row['clear_date'] - row['due_in_date']), axis=1)"
   ]
  },
  {
   "cell_type": "code",
   "execution_count": 24,
   "metadata": {},
   "outputs": [],
   "source": [
    "#converting to float since it's datatype is timedelta \n",
    "train_set['delay'] = train_set['delay'].dt.days.astype('float32')\n",
    "validation_set1['delay'] = validation_set1['delay'].dt.days.astype('float32')\n",
    "validation_set2['delay'] = validation_set2['delay'].dt.days.astype('float32')"
   ]
  },
  {
   "cell_type": "markdown",
   "metadata": {},
   "source": [
    "# Label Encoding"
   ]
  },
  {
   "cell_type": "markdown",
   "metadata": {},
   "source": [
    "#### We will also handle the rare labels here "
   ]
  },
  {
   "cell_type": "code",
   "execution_count": 25,
   "metadata": {},
   "outputs": [],
   "source": [
    "#grouping cust_number to find out invoice_id count for each customer number\n",
    "df1 = train_set.groupby('cust_number').agg({'invoice_id':'count'}).reset_index()\n",
    "\n",
    "#Now we can create a list for customers whose count of invoices are more than 5 \n",
    "cust_list = df1[df1.invoice_id>5].cust_number.unique() \n",
    "\n",
    "#Where if the cust_number belong to above list, we assign the respective cust_number. Else we assign it to others category\n",
    "train_set['cust_list'] = np.where(train_set.cust_number.isin(cust_list),train_set.cust_number,'others')\n",
    "validation_set1['cust_list'] = np.where(validation_set1.cust_number.isin(cust_list),validation_set1.cust_number,'others')\n",
    "validation_set2['cust_list'] = np.where(validation_set2.cust_number.isin(cust_list),validation_set2.cust_number,'others')\n",
    "\n",
    "#Now after handling rare labels, we can encode the cust_number easily \n",
    "le_cust_num = LabelEncoder()\n",
    "train_set['cust_list'].astype(str)\n",
    "train_set['cust_list_encoded'] = le_cust_num.fit_transform(train_set['cust_list'])\n",
    "validation_set1['cust_list'].astype(str)\n",
    "validation_set1['cust_list_encoded'] = le_cust_num.transform(validation_set1['cust_list']) \n",
    "validation_set2['cust_list'].astype(str)\n",
    "validation_set2['cust_list_encoded'] = le_cust_num.transform(validation_set2['cust_list'])"
   ]
  },
  {
   "cell_type": "code",
   "execution_count": 26,
   "metadata": {},
   "outputs": [],
   "source": [
    "le_business_code = LabelEncoder()\n",
    "train_set['business_code'].astype(str)\n",
    "train_set['business_code_encoded'] = le_business_code.fit_transform(train_set['business_code'])\n",
    "validation_set1['business_code'].astype(str)\n",
    "validation_set1['business_code_encoded'] = le_business_code.transform(validation_set1['business_code']) \n",
    "validation_set2['business_code'].astype(str)\n",
    "validation_set2['business_code_encoded'] = le_business_code.transform(validation_set2['business_code'])"
   ]
  },
  {
   "cell_type": "code",
   "execution_count": 27,
   "metadata": {},
   "outputs": [],
   "source": [
    "label_invoice_currency = LabelEncoder()\n",
    "train_set['invoice_currency'].astype(str)\n",
    "train_set['invoice_currency_encoded'] = label_invoice_currency.fit_transform(train_set['invoice_currency'])\n",
    "validation_set1['invoice_currency'].astype(str)\n",
    "validation_set1['invoice_currency_encoded'] = label_invoice_currency.transform(validation_set1['invoice_currency']) \n",
    "validation_set2['invoice_currency'].astype(str)\n",
    "validation_set2['invoice_currency_encoded'] = label_invoice_currency.transform(validation_set2['invoice_currency'])"
   ]
  },
  {
   "cell_type": "code",
   "execution_count": 28,
   "metadata": {},
   "outputs": [],
   "source": [
    "#grouping cust_number to find out invoice_id count for each cust_payment_terms\n",
    "df2 = train_set.groupby('cust_payment_terms').agg({'invoice_id':'count'}).reset_index()\n",
    "\n",
    "#Now we can create a list for customer payment terms whose count of invoices are more than 3 \n",
    "cust_payment_list = df2[df2.invoice_id>3].cust_payment_terms.unique() \n",
    "\n",
    "#Where if the cust_payment_term belongs to above list, we assign the respective payment_term. Else we assign it to others category\n",
    "train_set['cust_payment_list'] = np.where(train_set.cust_payment_terms.isin(cust_payment_list),train_set.cust_payment_terms,'others')\n",
    "validation_set1['cust_payment_list'] = np.where(validation_set1.cust_payment_terms.isin(cust_payment_list),validation_set1.cust_payment_terms,'others')\n",
    "validation_set2['cust_payment_list'] = np.where(validation_set2.cust_payment_terms.isin(cust_payment_list),validation_set2.cust_payment_terms,'others')\n",
    "\n",
    "#Now after handling rare labels, we can encode the cust_payment_terms easily \n",
    "le_cust_pay_terms = LabelEncoder()\n",
    "train_set['cust_payment_list'].astype(str)\n",
    "train_set['cust_payment_list_encoded'] = le_cust_pay_terms.fit_transform(train_set['cust_payment_list'])\n",
    "validation_set1['cust_payment_list'].astype(str)\n",
    "validation_set1['cust_payment_list_encoded'] = le_cust_pay_terms.transform(validation_set1['cust_payment_list']) \n",
    "validation_set2['cust_payment_list'].astype(str)\n",
    "validation_set2['cust_payment_list_encoded'] = le_cust_pay_terms.transform(validation_set2['cust_payment_list'])"
   ]
  },
  {
   "cell_type": "markdown",
   "metadata": {},
   "source": [
    "# Let's explore my data"
   ]
  },
  {
   "cell_type": "code",
   "execution_count": 29,
   "metadata": {},
   "outputs": [
    {
     "data": {
      "text/plain": [
       "business_code                        object\n",
       "cust_number                          object\n",
       "name_customer                        object\n",
       "clear_date                   datetime64[ns]\n",
       "business_year                datetime64[ns]\n",
       "document_create_date         datetime64[ns]\n",
       "document_create_date.1       datetime64[ns]\n",
       "due_in_date                  datetime64[ns]\n",
       "invoice_currency                     object\n",
       "total_open_amount                    object\n",
       "baseline_create_date         datetime64[ns]\n",
       "cust_payment_terms                   object\n",
       "invoice_id                           object\n",
       "delay                               float32\n",
       "cust_list                            object\n",
       "cust_list_encoded                     int32\n",
       "business_code_encoded                 int32\n",
       "invoice_currency_encoded              int32\n",
       "cust_payment_list                    object\n",
       "cust_payment_list_encoded             int32\n",
       "dtype: object"
      ]
     },
     "execution_count": 29,
     "metadata": {},
     "output_type": "execute_result"
    }
   ],
   "source": [
    "#Finding the datatype of columns in train_set\n",
    "train_set.dtypes"
   ]
  },
  {
   "cell_type": "code",
   "execution_count": 30,
   "metadata": {},
   "outputs": [],
   "source": [
    "#converting total_open_amount to float type\n",
    "train_set['total_open_amount'] = train_set['total_open_amount'].astype('float32')\n",
    "validation_set1['total_open_amount'] = validation_set1['total_open_amount'].astype('float32')\n",
    "validation_set2['total_open_amount'] = validation_set2['total_open_amount'].astype('float32')"
   ]
  },
  {
   "cell_type": "code",
   "execution_count": 31,
   "metadata": {},
   "outputs": [
    {
     "data": {
      "text/plain": [
       "<matplotlib.axes._subplots.AxesSubplot at 0x17538bf8700>"
      ]
     },
     "execution_count": 31,
     "metadata": {},
     "output_type": "execute_result"
    },
    {
     "data": {
      "image/png": "[encoded data removed]",
      "text/plain": [
       "<Figure size 432x288 with 1 Axes>"
      ]
     },
     "metadata": {
      "needs_background": "light"
     },
     "output_type": "display_data"
    }
   ],
   "source": [
    "sns.distplot(train_set.delay)"
   ]
  },
  {
   "cell_type": "code",
   "execution_count": 32,
   "metadata": {},
   "outputs": [
    {
     "data": {
      "image/png": "[encoded data removed]",
      "text/plain": [
       "<Figure size 432x288 with 1 Axes>"
      ]
     },
     "metadata": {
      "needs_background": "light"
     },
     "output_type": "display_data"
    }
   ],
   "source": [
    "plt.hist(train_set['total_open_amount'])\n",
    "plt.xlabel(\"Total open amount\")\n",
    "plt.title(\"Distribution of total open amount\")\n",
    "plt.show()"
   ]
  },
  {
   "cell_type": "markdown",
   "metadata": {},
   "source": [
    "#### we can clearly see that the total_open_amount is higly right skewed"
   ]
  },
  {
   "cell_type": "code",
   "execution_count": 33,
   "metadata": {},
   "outputs": [
    {
     "data": {
      "image/png": "[encoded data removed]",
      "text/plain": [
       "<Figure size 432x288 with 1 Axes>"
      ]
     },
     "metadata": {
      "needs_background": "light"
     },
     "output_type": "display_data"
    }
   ],
   "source": [
    "plt.hist(train_set['delay'])\n",
    "plt.xlabel(\"delay\")\n",
    "plt.title(\"Distribution of delay\")\n",
    "plt.show()"
   ]
  },
  {
   "cell_type": "markdown",
   "metadata": {},
   "source": [
    "#### clearly the delay is also higly right skewed"
   ]
  },
  {
   "cell_type": "markdown",
   "metadata": {},
   "source": [
    "### Boxplot for total_open_amount"
   ]
  },
  {
   "cell_type": "code",
   "execution_count": 34,
   "metadata": {},
   "outputs": [
    {
     "name": "stdout",
     "output_type": "stream",
     "text": [
      "Q1:  4378.509765625\n",
      "Q3:  45659.00390625\n",
      "IQR:  41280.494140625 \n",
      "\n"
     ]
    },
    {
     "data": {
      "text/plain": [
       "<matplotlib.axes._subplots.AxesSubplot at 0x17545bc8760>"
      ]
     },
     "execution_count": 34,
     "metadata": {},
     "output_type": "execute_result"
    },
    {
     "data": {
      "image/png": "[encoded data removed]",
      "text/plain": [
       "<Figure size 1440x720 with 1 Axes>"
      ]
     },
     "metadata": {
      "needs_background": "light"
     },
     "output_type": "display_data"
    }
   ],
   "source": [
    "Q1 = train_set['total_open_amount'].quantile(0.25)\n",
    "Q3 = train_set['total_open_amount'].quantile(0.75)\n",
    "IQR = Q3-Q1\n",
    "print(\"Q1: \",Q1)\n",
    "print(\"Q3: \",Q3)\n",
    "print(\"IQR: \",IQR,\"\\n\")\n",
    "\n",
    "plt.figure(figsize=(20,10))\n",
    "sns.boxplot(x = train_set['total_open_amount'])"
   ]
  },
  {
   "cell_type": "markdown",
   "metadata": {},
   "source": [
    "### Normalising total_open_amount"
   ]
  },
  {
   "cell_type": "code",
   "execution_count": 35,
   "metadata": {},
   "outputs": [],
   "source": [
    "#Standardizing the open amount\n",
    "sc_amount=StandardScaler()\n",
    "train_set['total_open_amount_standardized'] = sc_amount.fit_transform(train_set[['total_open_amount']])\n",
    "validation_set1['total_open_amount_standardized'] = sc_amount.transform(validation_set1[['total_open_amount']])\n",
    "validation_set2['total_open_amount_standardized'] = sc_amount.transform(validation_set2[['total_open_amount']])"
   ]
  },
  {
   "cell_type": "code",
   "execution_count": 36,
   "metadata": {},
   "outputs": [],
   "source": [
    "#Normalizing the total amount\n",
    "mm_scaler_amount = MinMaxScaler() \n",
    "train_set['total_open_amount_normalize']=mm_scaler_amount.fit_transform(train_set[['total_open_amount']])\n",
    "validation_set1['total_open_amount_normalize']=mm_scaler_amount.transform(validation_set1[['total_open_amount']])\n",
    "validation_set2['total_open_amount_normalize']=mm_scaler_amount.transform(validation_set2[['total_open_amount']])"
   ]
  },
  {
   "cell_type": "code",
   "execution_count": 37,
   "metadata": {},
   "outputs": [],
   "source": [
    "#Applying box-cox on total open amount\n",
    "boxcox_scaler_amount = PowerTransformer(method='box-cox', standardize=True)\n",
    "train_set['total_open_amount_power']=boxcox_scaler_amount.fit_transform(train_set[['total_open_amount']])\n",
    "validation_set1['total_open_amount_power']=boxcox_scaler_amount.transform(validation_set1[['total_open_amount']])\n",
    "validation_set2['total_open_amount_power']=boxcox_scaler_amount.transform(validation_set2[['total_open_amount']])"
   ]
  },
  {
   "cell_type": "markdown",
   "metadata": {},
   "source": [
    "### Extracting time related features"
   ]
  },
  {
   "cell_type": "code",
   "execution_count": 38,
   "metadata": {},
   "outputs": [],
   "source": [
    "# month extraction \n",
    "train_set['due_in_month'] = train_set['due_in_date'].dt.month\n",
    "train_set['document_create_month'] = train_set['document_create_date.1'].dt.month\n",
    "\n",
    "validation_set1['due_in_month'] = validation_set1['due_in_date'].dt.month\n",
    "validation_set1['document_create_month'] = validation_set1['document_create_date.1'].dt.month\n",
    "\n",
    "validation_set2['due_in_month'] = validation_set2['due_in_date'].dt.month\n",
    "validation_set2['document_create_month'] = validation_set2['document_create_date.1'].dt.month"
   ]
  },
  {
   "cell_type": "code",
   "execution_count": 39,
   "metadata": {},
   "outputs": [],
   "source": [
    "# day extraction\n",
    "\n",
    "train_set['due_in_day'] = train_set['due_in_date'].dt.day\n",
    "train_set['document_create_day'] = train_set['document_create_date.1'].dt.day\n",
    "\n",
    "validation_set1['due_in_day'] = validation_set1['due_in_date'].dt.day\n",
    "validation_set1['document_create_day'] = validation_set1['document_create_date.1'].dt.day\n",
    "\n",
    "validation_set2['due_in_day'] = validation_set2['due_in_date'].dt.day\n",
    "validation_set2['document_create_day'] = validation_set2['document_create_date.1'].dt.day"
   ]
  },
  {
   "cell_type": "code",
   "execution_count": 40,
   "metadata": {},
   "outputs": [],
   "source": [
    "# week day extraction\n",
    "\n",
    "train_set['due_in_weekday'] = train_set['due_in_date'].dt.weekday\n",
    "train_set['document_create_weekday'] = train_set['document_create_date.1'].dt.weekday\n",
    "\n",
    "validation_set1['due_in_weekday'] = validation_set1['due_in_date'].dt.weekday\n",
    "validation_set1['document_create_weekday'] = validation_set1['document_create_date.1'].dt.weekday\n",
    "\n",
    "validation_set2['due_in_weekday'] = validation_set2['due_in_date'].dt.weekday\n",
    "validation_set2['document_create_weekday'] = validation_set2['document_create_date.1'].dt.weekday"
   ]
  },
  {
   "cell_type": "code",
   "execution_count": 41,
   "metadata": {},
   "outputs": [],
   "source": [
    "# quarter extraction\n",
    "\n",
    "train_set['due_in_quarter'] = train_set['due_in_date'].dt.quarter\n",
    "train_set['document_create_quarter'] = train_set['document_create_date.1'].dt.quarter\n",
    "\n",
    "validation_set1['due_in_quarter'] = validation_set1['due_in_date'].dt.quarter\n",
    "validation_set1['document_create_quarter'] = validation_set1['document_create_date.1'].dt.quarter\n",
    "\n",
    "validation_set2['due_in_quarter'] = validation_set2['due_in_date'].dt.quarter\n",
    "validation_set2['document_create_quarter'] = validation_set2['document_create_date.1'].dt.quarter"
   ]
  },
  {
   "cell_type": "code",
   "execution_count": 42,
   "metadata": {},
   "outputs": [
    {
     "data": {
      "text/plain": [
       "(array([2.5983e+04, 4.6080e+03, 1.2420e+03, 1.7100e+02, 8.3000e+01,\n",
       "        4.5000e+01, 2.1000e+01, 4.0000e+00, 3.0000e+00, 2.0000e+00]),\n",
       " array([0. , 0.1, 0.2, 0.3, 0.4, 0.5, 0.6, 0.7, 0.8, 0.9, 1. ],\n",
       "       dtype=float32),\n",
       " <a list of 10 Patch objects>)"
      ]
     },
     "execution_count": 42,
     "metadata": {},
     "output_type": "execute_result"
    },
    {
     "data": {
      "image/png": "[encoded data removed]",
      "text/plain": [
       "<Figure size 432x288 with 1 Axes>"
      ]
     },
     "metadata": {
      "needs_background": "light"
     },
     "output_type": "display_data"
    }
   ],
   "source": [
    "plt.hist(train_set['total_open_amount_normalize'])"
   ]
  },
  {
   "cell_type": "code",
   "execution_count": 43,
   "metadata": {},
   "outputs": [
    {
     "data": {
      "text/plain": [
       "(array([2.5983e+04, 4.6080e+03, 1.2420e+03, 1.7100e+02, 8.3000e+01,\n",
       "        4.5000e+01, 2.1000e+01, 4.0000e+00, 3.0000e+00, 2.0000e+00]),\n",
       " array([-0.79487485,  0.6033235 ,  2.0015218 ,  3.3997202 ,  4.797919  ,\n",
       "         6.196117  ,  7.5943155 ,  8.992514  , 10.390712  , 11.788911  ,\n",
       "        13.187109  ], dtype=float32),\n",
       " <a list of 10 Patch objects>)"
      ]
     },
     "execution_count": 43,
     "metadata": {},
     "output_type": "execute_result"
    },
    {
     "data": {
      "image/png": "[encoded data removed]",
      "text/plain": [
       "<Figure size 432x288 with 1 Axes>"
      ]
     },
     "metadata": {
      "needs_background": "light"
     },
     "output_type": "display_data"
    }
   ],
   "source": [
    "plt.hist(train_set['total_open_amount_standardized'])"
   ]
  },
  {
   "cell_type": "code",
   "execution_count": 44,
   "metadata": {},
   "outputs": [
    {
     "data": {
      "text/plain": [
       "(array([ 522., 3169., 4142., 5305., 7854., 6371., 3655.,  974.,  151.,\n",
       "          19.]),\n",
       " array([-2.5899522 , -1.9799209 , -1.3698895 , -0.7598581 , -0.14982668,\n",
       "         0.46020472,  1.0702361 ,  1.6802675 ,  2.290299  ,  2.9003303 ,\n",
       "         3.5103617 ], dtype=float32),\n",
       " <a list of 10 Patch objects>)"
      ]
     },
     "execution_count": 44,
     "metadata": {},
     "output_type": "execute_result"
    },
    {
     "data": {
      "image/png": "[encoded data removed]",
      "text/plain": [
       "<Figure size 432x288 with 1 Axes>"
      ]
     },
     "metadata": {
      "needs_background": "light"
     },
     "output_type": "display_data"
    }
   ],
   "source": [
    "plt.hist(train_set['total_open_amount_power'])"
   ]
  },
  {
   "cell_type": "markdown",
   "metadata": {},
   "source": [
    "### Box-cox gave the best distribution for total_open_amount"
   ]
  },
  {
   "cell_type": "code",
   "execution_count": 45,
   "metadata": {},
   "outputs": [
    {
     "data": {
      "image/png": "[encoded data removed]",
      "text/plain": [
       "<Figure size 432x288 with 1 Axes>"
      ]
     },
     "metadata": {
      "needs_background": "light"
     },
     "output_type": "display_data"
    }
   ],
   "source": [
    "sns.lineplot(train_set['due_in_weekday'], train_set['delay'])\n",
    "plt.xlabel(\"Due Week Day\")\n",
    "plt.ylabel(\"Delay\")\n",
    "plt.title(\"Week Day vs Delay\")\n",
    "plt.show()"
   ]
  },
  {
   "cell_type": "markdown",
   "metadata": {},
   "source": [
    "#### We can see a dip in delay when weekday=2 and max when weekday=5 "
   ]
  },
  {
   "cell_type": "code",
   "execution_count": 46,
   "metadata": {},
   "outputs": [
    {
     "data": {
      "image/png": "[encoded data removed]",
      "text/plain": [
       "<Figure size 432x288 with 1 Axes>"
      ]
     },
     "metadata": {
      "needs_background": "light"
     },
     "output_type": "display_data"
    }
   ],
   "source": [
    "sns.lineplot(train_set['due_in_month'], train_set['delay'])\n",
    "plt.xlabel(\"Due Month\")\n",
    "plt.ylabel(\"Delay\")\n",
    "plt.title(\"Due Month vs Delay\")\n",
    "plt.show()"
   ]
  },
  {
   "cell_type": "markdown",
   "metadata": {},
   "source": [
    "#### There's a rise in delay for month 12 due to presence of festivals and holidays in december"
   ]
  },
  {
   "cell_type": "code",
   "execution_count": 47,
   "metadata": {},
   "outputs": [
    {
     "data": {
      "image/png": "[encoded data removed]",
      "text/plain": [
       "<Figure size 432x288 with 1 Axes>"
      ]
     },
     "metadata": {
      "needs_background": "light"
     },
     "output_type": "display_data"
    }
   ],
   "source": [
    "sns.lineplot(train_set['due_in_quarter'], train_set['delay'])\n",
    "plt.xlabel(\"Due Quarter\")\n",
    "plt.ylabel(\"Delay\")\n",
    "plt.title(\"Due Quarter vs Delay\")\n",
    "plt.show()"
   ]
  },
  {
   "cell_type": "code",
   "execution_count": 48,
   "metadata": {},
   "outputs": [
    {
     "data": {
      "image/png": "[encoded data removed]",
      "text/plain": [
       "<Figure size 432x288 with 1 Axes>"
      ]
     },
     "metadata": {
      "needs_background": "light"
     },
     "output_type": "display_data"
    }
   ],
   "source": [
    "sns.lineplot(train_set['due_in_day'], train_set['delay'])\n",
    "plt.xlabel(\"Due Day of Month\")\n",
    "plt.ylabel(\"Delay\")\n",
    "plt.title(\"Due Day of Month vs Delay\")\n",
    "plt.show()"
   ]
  },
  {
   "cell_type": "markdown",
   "metadata": {},
   "source": [
    "#### The delay is lowest for 24th day of month"
   ]
  },
  {
   "cell_type": "code",
   "execution_count": 49,
   "metadata": {},
   "outputs": [
    {
     "data": {
      "image/png": "[encoded data removed]",
      "text/plain": [
       "<Figure size 432x288 with 1 Axes>"
      ]
     },
     "metadata": {
      "needs_background": "light"
     },
     "output_type": "display_data"
    }
   ],
   "source": [
    "sns.lineplot(train_set['document_create_month'], train_set['delay'])\n",
    "plt.xlabel(\"Document Create Month\")\n",
    "plt.ylabel(\"Delay\")\n",
    "plt.title(\"Document Create Month vs Delay\")\n",
    "plt.show()"
   ]
  },
  {
   "cell_type": "code",
   "execution_count": 50,
   "metadata": {},
   "outputs": [
    {
     "data": {
      "image/png": "[encoded data removed]",
      "text/plain": [
       "<Figure size 432x288 with 1 Axes>"
      ]
     },
     "metadata": {
      "needs_background": "light"
     },
     "output_type": "display_data"
    }
   ],
   "source": [
    "sns.lineplot(train_set['document_create_day'], train_set['delay'])\n",
    "plt.xlabel(\"Document Create Day\")\n",
    "plt.ylabel(\"Delay\")\n",
    "plt.title(\"Document Create Day vs Delay\")\n",
    "plt.show()"
   ]
  },
  {
   "cell_type": "code",
   "execution_count": 51,
   "metadata": {},
   "outputs": [
    {
     "data": {
      "image/png": "[encoded data removed]",
      "text/plain": [
       "<Figure size 432x288 with 1 Axes>"
      ]
     },
     "metadata": {
      "needs_background": "light"
     },
     "output_type": "display_data"
    }
   ],
   "source": [
    "sns.lineplot(train_set['delay'],train_set['total_open_amount'])\n",
    "plt.xlabel(\"Delay\")\n",
    "plt.ylabel(\"Total Open Amount\")\n",
    "plt.title(\"Delay vs Total Open Amount\")\n",
    "plt.show()"
   ]
  },
  {
   "cell_type": "code",
   "execution_count": 52,
   "metadata": {},
   "outputs": [
    {
     "data": {
      "text/plain": [
       "<matplotlib.axes._subplots.AxesSubplot at 0x17544fb4880>"
      ]
     },
     "execution_count": 52,
     "metadata": {},
     "output_type": "execute_result"
    },
    {
     "data": {
      "image/png": "[encoded data removed]",
      "text/plain": [
       "<Figure size 1440x720 with 1 Axes>"
      ]
     },
     "metadata": {
      "needs_background": "light"
     },
     "output_type": "display_data"
    }
   ],
   "source": [
    "plt.figure(figsize=(20,10))\n",
    "sns.countplot(data=train_set,x=train_set['due_in_day'])"
   ]
  },
  {
   "cell_type": "code",
   "execution_count": 53,
   "metadata": {},
   "outputs": [
    {
     "data": {
      "text/plain": [
       "<matplotlib.axes._subplots.AxesSubplot at 0x17538c5b700>"
      ]
     },
     "execution_count": 53,
     "metadata": {},
     "output_type": "execute_result"
    },
    {
     "data": {
      "image/png": "[encoded data removed]",
      "text/plain": [
       "<Figure size 432x288 with 1 Axes>"
      ]
     },
     "metadata": {
      "needs_background": "light"
     },
     "output_type": "display_data"
    }
   ],
   "source": [
    "sns.countplot(data=train_set,x=train_set['due_in_weekday'])"
   ]
  },
  {
   "cell_type": "code",
   "execution_count": 54,
   "metadata": {},
   "outputs": [
    {
     "data": {
      "text/plain": [
       "<matplotlib.axes._subplots.AxesSubplot at 0x17544fb4730>"
      ]
     },
     "execution_count": 54,
     "metadata": {},
     "output_type": "execute_result"
    },
    {
     "data": {
      "image/png": "[encoded data removed]",
      "text/plain": [
       "<Figure size 432x288 with 1 Axes>"
      ]
     },
     "metadata": {
      "needs_background": "light"
     },
     "output_type": "display_data"
    }
   ],
   "source": [
    "sns.countplot(data=train_set,x=train_set['due_in_quarter'])"
   ]
  },
  {
   "cell_type": "markdown",
   "metadata": {},
   "source": [
    "#### Inference - max dues in 2nd and least dues in 4th quarter"
   ]
  },
  {
   "cell_type": "code",
   "execution_count": 55,
   "metadata": {},
   "outputs": [
    {
     "data": {
      "text/plain": [
       "<matplotlib.axes._subplots.AxesSubplot at 0x17538d9da30>"
      ]
     },
     "execution_count": 55,
     "metadata": {},
     "output_type": "execute_result"
    },
    {
     "data": {
      "image/png": "[encoded data removed]",
      "text/plain": [
       "<Figure size 432x288 with 1 Axes>"
      ]
     },
     "metadata": {
      "needs_background": "light"
     },
     "output_type": "display_data"
    }
   ],
   "source": [
    "sns.countplot(train_set['invoice_currency'])"
   ]
  },
  {
   "cell_type": "markdown",
   "metadata": {},
   "source": [
    "#### Inference - Amount of orders in USD are more than CAD"
   ]
  },
  {
   "cell_type": "code",
   "execution_count": 56,
   "metadata": {},
   "outputs": [
    {
     "data": {
      "image/png": "[encoded data removed]",
      "text/plain": [
       "<Figure size 432x288 with 1 Axes>"
      ]
     },
     "metadata": {
      "needs_background": "light"
     },
     "output_type": "display_data"
    }
   ],
   "source": [
    "sns.barplot(x=train_set['invoice_currency'], y=train_set['delay'])\n",
    "plt.xlabel(\"Due in Date\")\n",
    "plt.ylabel(\"Delay\")\n",
    "plt.title(\"Due in Date vs Delay\")\n",
    "plt.show()"
   ]
  },
  {
   "cell_type": "code",
   "execution_count": 57,
   "metadata": {},
   "outputs": [
    {
     "data": {
      "text/plain": [
       "<matplotlib.axes._subplots.AxesSubplot at 0x175396738e0>"
      ]
     },
     "execution_count": 57,
     "metadata": {},
     "output_type": "execute_result"
    },
    {
     "data": {
      "image/png": "[encoded data removed]",
      "text/plain": [
       "<Figure size 432x288 with 1 Axes>"
      ]
     },
     "metadata": {
      "needs_background": "light"
     },
     "output_type": "display_data"
    }
   ],
   "source": [
    "sns.countplot(data=train_set,x=train_set['due_in_month'])"
   ]
  },
  {
   "cell_type": "markdown",
   "metadata": {},
   "source": [
    "#### Inference - Compared to other months, November and December have very less dues pending"
   ]
  },
  {
   "cell_type": "code",
   "execution_count": 58,
   "metadata": {},
   "outputs": [
    {
     "data": {
      "text/plain": [
       "<matplotlib.axes._subplots.AxesSubplot at 0x17539f96c40>"
      ]
     },
     "execution_count": 58,
     "metadata": {},
     "output_type": "execute_result"
    },
    {
     "data": {
      "image/png": "[encoded data removed]",
      "text/plain": [
       "<Figure size 432x288 with 1 Axes>"
      ]
     },
     "metadata": {
      "needs_background": "light"
     },
     "output_type": "display_data"
    }
   ],
   "source": [
    "sns.countplot(data=train_set,x=train_set['due_in_day'])"
   ]
  },
  {
   "cell_type": "code",
   "execution_count": 59,
   "metadata": {},
   "outputs": [
    {
     "data": {
      "text/plain": [
       "<matplotlib.axes._subplots.AxesSubplot at 0x17539f98cd0>"
      ]
     },
     "execution_count": 59,
     "metadata": {},
     "output_type": "execute_result"
    },
    {
     "data": {
      "image/png": "[encoded data removed]",
      "text/plain": [
       "<Figure size 432x288 with 1 Axes>"
      ]
     },
     "metadata": {
      "needs_background": "light"
     },
     "output_type": "display_data"
    }
   ],
   "source": [
    "sns.countplot(data=train_set,x=train_set['clear_date'].dt.day)"
   ]
  },
  {
   "cell_type": "code",
   "execution_count": 60,
   "metadata": {},
   "outputs": [
    {
     "name": "stdout",
     "output_type": "stream",
     "text": [
      "mean delay:  1.1628319025039673\n"
     ]
    }
   ],
   "source": [
    "print(\"mean delay: \",train_set['delay'].mean())"
   ]
  },
  {
   "cell_type": "markdown",
   "metadata": {},
   "source": [
    "### The similar pattern of due_in_date and date of clear_date signifies why the mean delay is 1.16"
   ]
  },
  {
   "cell_type": "code",
   "execution_count": 61,
   "metadata": {},
   "outputs": [
    {
     "data": {
      "text/plain": [
       "<matplotlib.axes._subplots.AxesSubplot at 0x17544fb43d0>"
      ]
     },
     "execution_count": 61,
     "metadata": {},
     "output_type": "execute_result"
    },
    {
     "data": {
      "image/png": "[encoded data removed]",
      "text/plain": [
       "<Figure size 432x288 with 1 Axes>"
      ]
     },
     "metadata": {
      "needs_background": "light"
     },
     "output_type": "display_data"
    }
   ],
   "source": [
    "sns.countplot(data=train_set,x=train_set['clear_date'].dt.month)"
   ]
  },
  {
   "cell_type": "markdown",
   "metadata": {},
   "source": [
    "# Feature Engineering"
   ]
  },
  {
   "cell_type": "markdown",
   "metadata": {},
   "source": [
    "### The following features are created after seeing an un-usual pattern for these particular conditions in EDA"
   ]
  },
  {
   "cell_type": "code",
   "execution_count": 62,
   "metadata": {},
   "outputs": [],
   "source": [
    "train_set['DueDay_is_24']=np.where(train_set['due_in_date'].dt.day==24,1,0)\n",
    "validation_set1['DueDay_is_24']=np.where(validation_set1['due_in_date'].dt.day==24,1,0)\n",
    "validation_set2['DueDay_is_24']=np.where(validation_set2['due_in_date'].dt.day==24,1,0)"
   ]
  },
  {
   "cell_type": "code",
   "execution_count": 63,
   "metadata": {},
   "outputs": [],
   "source": [
    "train_set['DueWeekDay_is_5']=np.where(train_set['due_in_date'].dt.weekday==5,1,0)\n",
    "validation_set1['DueWeekDay_is_5']=np.where(validation_set1['due_in_date'].dt.weekday==5,1,0)\n",
    "validation_set2['DueWeekDay_is_5']=np.where(validation_set2['due_in_date'].dt.weekday==5,1,0)"
   ]
  },
  {
   "cell_type": "code",
   "execution_count": 64,
   "metadata": {},
   "outputs": [],
   "source": [
    "train_set['DueQuarter_is_1']=np.where(train_set['due_in_date'].dt.quarter==1,1,0)\n",
    "validation_set1['DueQuarter_is_1']=np.where(validation_set1['due_in_date'].dt.quarter==1,1,0)\n",
    "validation_set2['DueQuarter_is_1']=np.where(validation_set2['due_in_date'].dt.quarter==1,1,0)"
   ]
  },
  {
   "cell_type": "markdown",
   "metadata": {},
   "source": [
    "# Heatmap For Numerical Columns"
   ]
  },
  {
   "cell_type": "code",
   "execution_count": 65,
   "metadata": {},
   "outputs": [
    {
     "data": {
      "text/plain": [
       "<matplotlib.axes._subplots.AxesSubplot at 0x1753ae5b790>"
      ]
     },
     "execution_count": 65,
     "metadata": {},
     "output_type": "execute_result"
    },
    {
     "data": {
      "image/png": "[encoded data removed]",
      "text/plain": [
       "<Figure size 1440x720 with 2 Axes>"
      ]
     },
     "metadata": {
      "needs_background": "light"
     },
     "output_type": "display_data"
    }
   ],
   "source": [
    "#this heatmap is used to show correlation between the numerical columns\n",
    "numerical_data = train_set[['due_in_month',\n",
    "                   'document_create_month','due_in_day','document_create_day','due_in_weekday','document_create_weekday',\n",
    "                   'due_in_quarter','document_create_quarter','total_open_amount_power']]\n",
    "\n",
    "plt.figure(figsize=(20,10))\n",
    "corel=numerical_data.corr()\n",
    "sns.heatmap(corel,xticklabels=corel.columns,yticklabels=corel.columns,annot=True)"
   ]
  },
  {
   "cell_type": "markdown",
   "metadata": {},
   "source": [
    "## x_train, x_test, y_train, y_test, x_valid, y_valid"
   ]
  },
  {
   "cell_type": "code",
   "execution_count": 66,
   "metadata": {},
   "outputs": [
    {
     "data": {
      "text/plain": [
       "business_code                             object\n",
       "cust_number                               object\n",
       "name_customer                             object\n",
       "clear_date                        datetime64[ns]\n",
       "business_year                     datetime64[ns]\n",
       "document_create_date              datetime64[ns]\n",
       "document_create_date.1            datetime64[ns]\n",
       "due_in_date                       datetime64[ns]\n",
       "invoice_currency                          object\n",
       "total_open_amount                        float32\n",
       "baseline_create_date              datetime64[ns]\n",
       "cust_payment_terms                        object\n",
       "invoice_id                                object\n",
       "delay                                    float32\n",
       "cust_list                                 object\n",
       "cust_list_encoded                          int32\n",
       "business_code_encoded                      int32\n",
       "invoice_currency_encoded                   int32\n",
       "cust_payment_list                         object\n",
       "cust_payment_list_encoded                  int32\n",
       "total_open_amount_standardized           float32\n",
       "total_open_amount_normalize              float32\n",
       "total_open_amount_power                  float32\n",
       "due_in_month                               int64\n",
       "document_create_month                      int64\n",
       "due_in_day                                 int64\n",
       "document_create_day                        int64\n",
       "due_in_weekday                             int64\n",
       "document_create_weekday                    int64\n",
       "due_in_quarter                             int64\n",
       "document_create_quarter                    int64\n",
       "DueDay_is_24                               int32\n",
       "DueWeekDay_is_5                            int32\n",
       "DueQuarter_is_1                            int32\n",
       "dtype: object"
      ]
     },
     "execution_count": 66,
     "metadata": {},
     "output_type": "execute_result"
    }
   ],
   "source": [
    "train_set.dtypes"
   ]
  },
  {
   "cell_type": "markdown",
   "metadata": {},
   "source": [
    "#### Selecting all the encoded forms of all the categorical columns.\n",
    "#### Selecting all the new features produced during and after EDA"
   ]
  },
  {
   "cell_type": "code",
   "execution_count": 67,
   "metadata": {},
   "outputs": [],
   "source": [
    "x_train = train_set[['cust_list_encoded','business_code_encoded','invoice_currency_encoded','due_in_month','cust_payment_list_encoded',\n",
    "                   'document_create_month','due_in_day','document_create_day','due_in_weekday','document_create_weekday',\n",
    "                   'due_in_quarter','document_create_quarter','total_open_amount_power','DueDay_is_24','DueWeekDay_is_5','DueQuarter_is_1']]\n",
    "y_train = train_set[['delay']]"
   ]
  },
  {
   "cell_type": "code",
   "execution_count": 68,
   "metadata": {},
   "outputs": [],
   "source": [
    "x_test = validation_set1[['cust_list_encoded','business_code_encoded','invoice_currency_encoded','due_in_month','cust_payment_list_encoded',\n",
    "                   'document_create_month','due_in_day','document_create_day','due_in_weekday','document_create_weekday',\n",
    "                   'due_in_quarter','document_create_quarter','total_open_amount_power','DueDay_is_24','DueWeekDay_is_5','DueQuarter_is_1']]\n",
    "y_test = validation_set1[['delay']]"
   ]
  },
  {
   "cell_type": "code",
   "execution_count": 69,
   "metadata": {},
   "outputs": [],
   "source": [
    "x_valid = validation_set2[['cust_list_encoded','business_code_encoded','invoice_currency_encoded','due_in_month','cust_payment_list_encoded',\n",
    "                   'document_create_month','due_in_day','document_create_day','due_in_weekday','document_create_weekday',\n",
    "                   'due_in_quarter','document_create_quarter','total_open_amount_power','DueDay_is_24','DueWeekDay_is_5','DueQuarter_is_1']]\n",
    "y_valid = validation_set2[['delay']]"
   ]
  },
  {
   "cell_type": "code",
   "execution_count": 70,
   "metadata": {},
   "outputs": [
    {
     "name": "stdout",
     "output_type": "stream",
     "text": [
      "(6880, 16)\n",
      "(6880, 16)\n"
     ]
    }
   ],
   "source": [
    "#confirming the shape of test and valid data \n",
    "print(x_test.shape)\n",
    "print(x_valid.shape)"
   ]
  },
  {
   "cell_type": "markdown",
   "metadata": {},
   "source": [
    "# Feature Selection"
   ]
  },
  {
   "cell_type": "markdown",
   "metadata": {},
   "source": [
    "<!-- from mlxtend.feature_selection import SequentialFeatureSelector as SFS\n",
    "from sklearn.linear_model import LinearRegression\n",
    "\n",
    "sfs = SFS(LinearRegression(),\n",
    "          k_features=4,\n",
    "          forward=True,\n",
    "          floating=False,\n",
    "          scoring = 'r2',\n",
    "          cv = 0)\n",
    "\n",
    "\n",
    "sfs.fit(x_train, y_train)\n",
    "sfs.k_feature_names_ -->"
   ]
  },
  {
   "cell_type": "code",
   "execution_count": 71,
   "metadata": {},
   "outputs": [],
   "source": [
    "# sbs = SFS(RandomForestRegressor(), \n",
    "#            k_features=9, \n",
    "#            forward=False, \n",
    "#            floating=False,\n",
    "#            scoring='r2',\n",
    "#            cv=2)\n",
    "\n",
    "# # fit the object to our training data.\n",
    "# sbs = sbs.fit(x_train, y_train)\n",
    "\n",
    "# # print the selected features. \n",
    "# selected_features = x_train.columns[list(sbs.k_feature_idx_)]\n",
    "# print(selected_features)\n",
    "\n",
    "# # print the final prediction score.\n",
    "# print(sbs.k_score_)"
   ]
  },
  {
   "cell_type": "code",
   "execution_count": 72,
   "metadata": {},
   "outputs": [
    {
     "name": "stdout",
     "output_type": "stream",
     "text": [
      "[0.20502993 0.0052752  0.00450268 0.03499461 0.10271922 0.03500942\n",
      " 0.0598748  0.06220312 0.04942784 0.0470067  0.01431281 0.01476681\n",
      " 0.33279553 0.00628745 0.02101958 0.00477432]\n"
     ]
    },
    {
     "data": {
      "image/png": "[encoded data removed]",
      "text/plain": [
       "<Figure size 432x288 with 1 Axes>"
      ]
     },
     "metadata": {
      "needs_background": "light"
     },
     "output_type": "display_data"
    }
   ],
   "source": [
    "#This is a ensemble based learning technique used for feature selection. \n",
    "\n",
    "from sklearn.ensemble import ExtraTreesClassifier\n",
    "import matplotlib.pyplot as plt\n",
    "model = ExtraTreesClassifier()\n",
    "model.fit(x_train,y_train)\n",
    "print(model.feature_importances_) \n",
    "#use inbuilt class feature_importances of tree based classifiers\n",
    "#plotting graph of feature importances for better visualization\n",
    "feat_importances = pd.Series(model.feature_importances_, index=x_train.columns)\n",
    "feat_importances.nlargest(16).plot(kind='barh')\n",
    "plt.show()"
   ]
  },
  {
   "cell_type": "markdown",
   "metadata": {},
   "source": [
    "# Model Training "
   ]
  },
  {
   "cell_type": "code",
   "execution_count": 73,
   "metadata": {},
   "outputs": [],
   "source": [
    "# creating a separte set of features that are suggested by the extra-tree-classifier\n",
    "\n",
    "x_train2 = train_set[['cust_list_encoded','cust_payment_list_encoded', 'due_in_day',\n",
    "       'document_create_day', 'due_in_weekday', 'document_create_weekday',\n",
    "       'total_open_amount_power']]\n",
    "y_train2 = train_set[['delay']]\n",
    "\n",
    "x_test2 = validation_set1[['cust_list_encoded', 'cust_payment_list_encoded','due_in_day',\n",
    "       'document_create_day', 'due_in_weekday', 'document_create_weekday',\n",
    "                           \n",
    "       'total_open_amount_power']]\n",
    "y_test2 = validation_set1[['delay']]\n",
    "\n",
    "x_valid2 = validation_set2[['cust_list_encoded','cust_payment_list_encoded', 'due_in_day',\n",
    "                           \n",
    "       'document_create_day', 'due_in_weekday', 'document_create_weekday',\n",
    "       'total_open_amount_power']]\n",
    "y_valid2 = validation_set2[['delay']]"
   ]
  },
  {
   "cell_type": "markdown",
   "metadata": {},
   "source": [
    "## Validation set results"
   ]
  },
  {
   "cell_type": "code",
   "execution_count": 74,
   "metadata": {},
   "outputs": [],
   "source": [
    "MSE_Score_valid = []\n",
    "RMSE_valid = []\n",
    "Algorithm_valid = []"
   ]
  },
  {
   "cell_type": "markdown",
   "metadata": {},
   "source": [
    "#### Applying ADA Boost on validation set"
   ]
  },
  {
   "cell_type": "code",
   "execution_count": 75,
   "metadata": {},
   "outputs": [],
   "source": [
    "Algorithm_valid.append('ADA BOOST')\n",
    "ada_valid = AdaBoostRegressor(base_estimator=DecisionTreeRegressor(), loss='square', random_state=1, n_estimators=100)\n",
    "ada_valid.fit(x_train2, y_train2)\n",
    "ada_valid.score(x_valid2, y_valid2)\n",
    "predicted_ada_valid = ada_valid.predict(x_valid2)\n",
    "MSE_Score_valid.append(mean_squared_error(y_valid2, predicted_ada_valid))\n",
    "RMSE_valid.append(mean_squared_error(y_valid2, predicted_ada_valid,squared=False))"
   ]
  },
  {
   "cell_type": "markdown",
   "metadata": {},
   "source": [
    "#### Applying Linear Regression on validation set"
   ]
  },
  {
   "cell_type": "code",
   "execution_count": 76,
   "metadata": {},
   "outputs": [],
   "source": [
    "Algorithm_valid.append('Linear Regression')\n",
    "clf_lr_valid = LinearRegression()\n",
    "clf_lr_valid.fit(x_train2, y_train2)\n",
    "\n",
    "predicted_lr_valid = clf_lr_valid.predict(x_valid2)\n",
    "MSE_Score_valid.append(mean_squared_error(y_valid2, predicted_lr_valid))\n",
    "RMSE_valid.append(mean_squared_error(y_valid2, predicted_lr_valid,squared=False))"
   ]
  },
  {
   "cell_type": "markdown",
   "metadata": {},
   "source": [
    "#### Applying Random Forest on validation set"
   ]
  },
  {
   "cell_type": "code",
   "execution_count": 77,
   "metadata": {},
   "outputs": [],
   "source": [
    "Algorithm_valid.append('Random Forest')\n",
    "clf_rf_valid = RandomForestRegressor()\n",
    "clf_rf_valid.fit(x_train2, y_train2)\n",
    "\n",
    "predicted_rf_valid = clf_rf_valid.predict(x_valid2)\n",
    "\n",
    "MSE_Score_valid.append(mean_squared_error(y_valid2, predicted_rf_valid))\n",
    "RMSE_valid.append(mean_squared_error(y_valid2, predicted_rf_valid,squared=False))"
   ]
  },
  {
   "cell_type": "markdown",
   "metadata": {},
   "source": [
    "#### Applying XGB Regressor on validation set"
   ]
  },
  {
   "cell_type": "code",
   "execution_count": 78,
   "metadata": {},
   "outputs": [],
   "source": [
    "Algorithm_valid.append('XGB')\n",
    "clf_xgb_valid = xgb.XGBRegressor()\n",
    "clf_xgb_valid.fit(x_train2, y_train2)\n",
    "\n",
    "predicted_xgb_valid = clf_xgb_valid.predict(x_valid2)\n",
    "MSE_Score_valid.append(mean_squared_error(y_valid2, predicted_xgb_valid))\n",
    "RMSE_valid.append(mean_squared_error(y_valid2, predicted_xgb_valid,squared=False))"
   ]
  },
  {
   "cell_type": "markdown",
   "metadata": {},
   "source": [
    "#### Applying SVR on validation set"
   ]
  },
  {
   "cell_type": "code",
   "execution_count": 79,
   "metadata": {},
   "outputs": [],
   "source": [
    "Algorithm_valid.append('SVR')\n",
    "clf_svr_valid = SVR()\n",
    "clf_svr_valid.fit(x_train2, y_train2)\n",
    "\n",
    "predicted_svr_valid = clf_svr_valid.predict(x_valid2)\n",
    "\n",
    "\n",
    "MSE_Score_valid.append(mean_squared_error(y_valid2, predicted_svr_valid))\n",
    "RMSE_valid.append(mean_squared_error(y_valid2, predicted_svr_valid,squared=False))"
   ]
  },
  {
   "cell_type": "markdown",
   "metadata": {},
   "source": [
    "#### Scorecard for all the above algorithms implemented on validation set"
   ]
  },
  {
   "cell_type": "code",
   "execution_count": 80,
   "metadata": {},
   "outputs": [
    {
     "data": {
      "text/html": [
       "<div>\n",
       "<style scoped>\n",
       "    .dataframe tbody tr th:only-of-type {\n",
       "        vertical-align: middle;\n",
       "    }\n",
       "\n",
       "    .dataframe tbody tr th {\n",
       "        vertical-align: top;\n",
       "    }\n",
       "\n",
       "    .dataframe thead th {\n",
       "        text-align: right;\n",
       "    }\n",
       "</style>\n",
       "<table border=\"1\" class=\"dataframe\">\n",
       "  <thead>\n",
       "    <tr style=\"text-align: right;\">\n",
       "      <th></th>\n",
       "      <th>Algorithm_valid</th>\n",
       "      <th>MSE_Score_valid</th>\n",
       "      <th>RMSE_Score_valid</th>\n",
       "    </tr>\n",
       "  </thead>\n",
       "  <tbody>\n",
       "    <tr>\n",
       "      <th>0</th>\n",
       "      <td>ADA BOOST</td>\n",
       "      <td>56.399447</td>\n",
       "      <td>7.509956</td>\n",
       "    </tr>\n",
       "    <tr>\n",
       "      <th>1</th>\n",
       "      <td>Linear Regression</td>\n",
       "      <td>96.181495</td>\n",
       "      <td>9.807216</td>\n",
       "    </tr>\n",
       "    <tr>\n",
       "      <th>2</th>\n",
       "      <td>Random Forest</td>\n",
       "      <td>56.414446</td>\n",
       "      <td>7.510955</td>\n",
       "    </tr>\n",
       "    <tr>\n",
       "      <th>3</th>\n",
       "      <td>XGB</td>\n",
       "      <td>51.193150</td>\n",
       "      <td>7.154939</td>\n",
       "    </tr>\n",
       "    <tr>\n",
       "      <th>4</th>\n",
       "      <td>SVR</td>\n",
       "      <td>87.318294</td>\n",
       "      <td>9.344426</td>\n",
       "    </tr>\n",
       "  </tbody>\n",
       "</table>\n",
       "</div>"
      ],
      "text/plain": [
       "     Algorithm_valid  MSE_Score_valid  RMSE_Score_valid\n",
       "0          ADA BOOST        56.399447          7.509956\n",
       "1  Linear Regression        96.181495          9.807216\n",
       "2      Random Forest        56.414446          7.510955\n",
       "3                XGB        51.193150          7.154939\n",
       "4                SVR        87.318294          9.344426"
      ]
     },
     "execution_count": 80,
     "metadata": {},
     "output_type": "execute_result"
    }
   ],
   "source": [
    "Comparison_valid2 = pd.DataFrame(list(zip(Algorithm_valid, MSE_Score_valid, RMSE_valid)), columns = ['Algorithm_valid', 'MSE_Score_valid', 'RMSE_Score_valid'])\n",
    "Comparison_valid2"
   ]
  },
  {
   "cell_type": "markdown",
   "metadata": {},
   "source": [
    "## Hyperparameter tuning using GridSearchCV"
   ]
  },
  {
   "cell_type": "markdown",
   "metadata": {},
   "source": [
    "#### Hyperparameter tuning for Random Forest"
   ]
  },
  {
   "cell_type": "code",
   "execution_count": 81,
   "metadata": {},
   "outputs": [
    {
     "data": {
      "text/plain": [
       "GridSearchCV(cv=3, estimator=RandomForestRegressor(random_state=1), n_jobs=1,\n",
       "             param_grid={'bootstrap': [True], 'max_depth': [5, 10, 20, None],\n",
       "                         'max_features': ['auto', 'log2'],\n",
       "                         'n_estimators': [5, 6, 7, 8, 9, 10, 15, 20]},\n",
       "             return_train_score=True)"
      ]
     },
     "execution_count": 81,
     "metadata": {},
     "output_type": "execute_result"
    }
   ],
   "source": [
    "param_grid = {'bootstrap':[True], 'max_depth':[5,10,20,None],'max_features':['auto','log2'],'n_estimators':[5,6,7,8,9,10,15,20]}\n",
    "rf_tuned = RandomForestRegressor(random_state=1)\n",
    "grid = GridSearchCV(estimator=rf_tuned,param_grid=param_grid,cv=3,n_jobs=1,verbose=0,return_train_score=True)\n",
    "grid.fit(x_train2,y_train2)"
   ]
  },
  {
   "cell_type": "code",
   "execution_count": 82,
   "metadata": {},
   "outputs": [
    {
     "data": {
      "text/plain": [
       "{'bootstrap': True,\n",
       " 'max_depth': 10,\n",
       " 'max_features': 'auto',\n",
       " 'n_estimators': 20}"
      ]
     },
     "execution_count": 82,
     "metadata": {},
     "output_type": "execute_result"
    }
   ],
   "source": [
    "#Getting the best parameters for random forest regressor\n",
    "grid.best_params_"
   ]
  },
  {
   "cell_type": "markdown",
   "metadata": {},
   "source": [
    "#### Hyperparameter tuning for ADA"
   ]
  },
  {
   "cell_type": "code",
   "execution_count": 83,
   "metadata": {},
   "outputs": [
    {
     "data": {
      "text/plain": [
       "GridSearchCV(cv=3, estimator=AdaBoostRegressor(), n_jobs=-1,\n",
       "             param_grid={'learning_rate': [0.01, 0.05, 0.1, 0.3, 1],\n",
       "                         'loss': ['linear', 'square', 'exponential'],\n",
       "                         'n_estimators': [50, 100]})"
      ]
     },
     "execution_count": 83,
     "metadata": {},
     "output_type": "execute_result"
    }
   ],
   "source": [
    "param_ada = {\n",
    " 'n_estimators': [50, 100],\n",
    " 'learning_rate' : [0.01,0.05,0.1,0.3,1],\n",
    " 'loss' : ['linear', 'square', 'exponential']\n",
    " }\n",
    "\n",
    "grid_ada = GridSearchCV(AdaBoostRegressor(),\n",
    " param_grid= param_ada,\n",
    " cv=3,\n",
    " n_jobs=-1)\n",
    "\n",
    "grid_ada.fit(x_train2, y_train2)"
   ]
  },
  {
   "cell_type": "code",
   "execution_count": 84,
   "metadata": {},
   "outputs": [
    {
     "data": {
      "text/plain": [
       "{'learning_rate': 0.01, 'loss': 'exponential', 'n_estimators': 50}"
      ]
     },
     "execution_count": 84,
     "metadata": {},
     "output_type": "execute_result"
    }
   ],
   "source": [
    "# best parameters for AdaBoost algorithm\n",
    "grid_ada.best_params_"
   ]
  },
  {
   "cell_type": "markdown",
   "metadata": {},
   "source": [
    "## Test Set Results"
   ]
  },
  {
   "cell_type": "code",
   "execution_count": 85,
   "metadata": {},
   "outputs": [],
   "source": [
    "MSE_Score = []\n",
    "RMSE_Score = []\n",
    "Algorithm = []"
   ]
  },
  {
   "cell_type": "markdown",
   "metadata": {},
   "source": [
    "#### Applying ADA Boost on test set"
   ]
  },
  {
   "cell_type": "code",
   "execution_count": 86,
   "metadata": {},
   "outputs": [],
   "source": [
    "Algorithm.append('ADA BOOST')\n",
    "ada_test = AdaBoostRegressor(base_estimator=DecisionTreeRegressor(), loss='square', random_state=1, n_estimators=100)\n",
    "ada_test.fit(x_train2, y_train2)\n",
    "ada_test.score(x_train2, y_train2)\n",
    "predicted_ada_test = ada_test.predict(x_test2)\n",
    "MSE_Score.append(mean_squared_error(y_test2, predicted_ada_test))\n",
    "RMSE_Score.append(mean_squared_error(y_test2, predicted_ada_test,squared=False))"
   ]
  },
  {
   "cell_type": "markdown",
   "metadata": {},
   "source": [
    "#### Applying ADA Boost with tuned parameters on test set"
   ]
  },
  {
   "cell_type": "code",
   "execution_count": 87,
   "metadata": {},
   "outputs": [],
   "source": [
    "Algorithm.append('ADA BOOST Tuned')\n",
    "ada_test_tune = AdaBoostRegressor(base_estimator=DecisionTreeRegressor(), loss='linear', random_state=1, n_estimators=50)\n",
    "ada_test_tune.fit(x_train2, y_train2)\n",
    "ada_test_tune.score(x_train2, y_train2)\n",
    "predicted_ada_test = ada_test_tune.predict(x_test2)\n",
    "MSE_Score.append(mean_squared_error(y_test2, predicted_ada_test))\n",
    "RMSE_Score.append(mean_squared_error(y_test2, predicted_ada_test,squared=False))"
   ]
  },
  {
   "cell_type": "markdown",
   "metadata": {},
   "source": [
    "#### Applying Linear Regression on test set"
   ]
  },
  {
   "cell_type": "code",
   "execution_count": 88,
   "metadata": {},
   "outputs": [],
   "source": [
    "Algorithm.append('Linear Regression')\n",
    "clf_lr_test = LinearRegression()\n",
    "clf_lr_test.fit(x_train2, y_train2)\n",
    "\n",
    "# Predicting the Test Set Results\n",
    "predicted_lr_test = clf_lr_test.predict(x_test2)\n",
    "MSE_Score.append(mean_squared_error(y_test2, predicted_lr_test))\n",
    "RMSE_Score.append(mean_squared_error(y_test2, predicted_lr_test,squared=False))"
   ]
  },
  {
   "cell_type": "markdown",
   "metadata": {},
   "source": [
    "#### Applying Random Forest on test set"
   ]
  },
  {
   "cell_type": "code",
   "execution_count": 89,
   "metadata": {},
   "outputs": [],
   "source": [
    "Algorithm.append('Random Forest')\n",
    "clf_rf_test = RandomForestRegressor()\n",
    "clf_rf_test.fit(x_train2, y_train2)\n",
    "\n",
    "# Predicting the Test Set Results\n",
    "predicted_rf_test = clf_rf_test.predict(x_test2)\n",
    "\n",
    "MSE_Score.append(mean_squared_error(y_test2, predicted_rf_test))\n",
    "RMSE_Score.append(mean_squared_error(y_test2, predicted_rf_test,squared=False))"
   ]
  },
  {
   "cell_type": "markdown",
   "metadata": {},
   "source": [
    "#### Applying Random Forest with tuned parameters on test set"
   ]
  },
  {
   "cell_type": "code",
   "execution_count": 90,
   "metadata": {},
   "outputs": [],
   "source": [
    "Algorithm.append('RF Tuned')\n",
    "rr_tuned = RandomForestRegressor(bootstrap=True,max_depth=10,n_estimators = 20)\n",
    "rr_tuned.fit(x_train2, y_train2)\n",
    "\n",
    "# Predicting the Test Set Results\n",
    "predicted_rr_test = rr_tuned.predict(x_test2)\n",
    "MSE_Score.append(mean_squared_error(y_test2, predicted_rr_test))\n",
    "RMSE_Score.append(mean_squared_error(y_test2, predicted_rr_test,squared=False))"
   ]
  },
  {
   "cell_type": "markdown",
   "metadata": {},
   "source": [
    "#### Applying XGB Boost on test set"
   ]
  },
  {
   "cell_type": "code",
   "execution_count": 91,
   "metadata": {},
   "outputs": [],
   "source": [
    "Algorithm.append('XGB')\n",
    "clf_xgb_test = xgb.XGBRegressor()\n",
    "clf_xgb_test.fit(x_train2, y_train2)\n",
    "\n",
    "# Predicting the Test Set Results\n",
    "predicted_xgb_test = clf_xgb_test.predict(x_test2)\n",
    "MSE_Score.append(mean_squared_error(y_test2, predicted_xgb_test))\n",
    "RMSE_Score.append(mean_squared_error(y_test2, predicted_xgb_test,squared=False))"
   ]
  },
  {
   "cell_type": "markdown",
   "metadata": {},
   "source": [
    "#### Applying SVR on test set"
   ]
  },
  {
   "cell_type": "code",
   "execution_count": 92,
   "metadata": {},
   "outputs": [],
   "source": [
    "Algorithm.append('SVR')\n",
    "clf_svr_test = SVR()\n",
    "clf_svr_test.fit(x_train2, y_train2)\n",
    "\n",
    "# Predicting the Test Set Results\n",
    "predicted_svr_test = clf_svr_test.predict(x_test2)\n",
    "\n",
    "\n",
    "MSE_Score.append(mean_squared_error(y_test2, predicted_svr_test))\n",
    "RMSE_Score.append(mean_squared_error(y_test2, predicted_svr_test,squared=False))"
   ]
  },
  {
   "cell_type": "markdown",
   "metadata": {},
   "source": [
    "#### Scorecard for all above algorithms implemented on test set"
   ]
  },
  {
   "cell_type": "code",
   "execution_count": 93,
   "metadata": {},
   "outputs": [
    {
     "data": {
      "text/html": [
       "<div>\n",
       "<style scoped>\n",
       "    .dataframe tbody tr th:only-of-type {\n",
       "        vertical-align: middle;\n",
       "    }\n",
       "\n",
       "    .dataframe tbody tr th {\n",
       "        vertical-align: top;\n",
       "    }\n",
       "\n",
       "    .dataframe thead th {\n",
       "        text-align: right;\n",
       "    }\n",
       "</style>\n",
       "<table border=\"1\" class=\"dataframe\">\n",
       "  <thead>\n",
       "    <tr style=\"text-align: right;\">\n",
       "      <th></th>\n",
       "      <th>Algorithm</th>\n",
       "      <th>MSE_Score</th>\n",
       "      <th>RMSE_Score</th>\n",
       "    </tr>\n",
       "  </thead>\n",
       "  <tbody>\n",
       "    <tr>\n",
       "      <th>0</th>\n",
       "      <td>ADA BOOST</td>\n",
       "      <td>32.366441</td>\n",
       "      <td>5.689151</td>\n",
       "    </tr>\n",
       "    <tr>\n",
       "      <th>1</th>\n",
       "      <td>ADA BOOST Tuned</td>\n",
       "      <td>31.717130</td>\n",
       "      <td>5.631796</td>\n",
       "    </tr>\n",
       "    <tr>\n",
       "      <th>2</th>\n",
       "      <td>Linear Regression</td>\n",
       "      <td>49.209335</td>\n",
       "      <td>7.014937</td>\n",
       "    </tr>\n",
       "    <tr>\n",
       "      <th>3</th>\n",
       "      <td>Random Forest</td>\n",
       "      <td>33.060850</td>\n",
       "      <td>5.749857</td>\n",
       "    </tr>\n",
       "    <tr>\n",
       "      <th>4</th>\n",
       "      <td>RF Tuned</td>\n",
       "      <td>28.237097</td>\n",
       "      <td>5.313859</td>\n",
       "    </tr>\n",
       "    <tr>\n",
       "      <th>5</th>\n",
       "      <td>XGB</td>\n",
       "      <td>31.134884</td>\n",
       "      <td>5.579864</td>\n",
       "    </tr>\n",
       "    <tr>\n",
       "      <th>6</th>\n",
       "      <td>SVR</td>\n",
       "      <td>41.774906</td>\n",
       "      <td>6.463351</td>\n",
       "    </tr>\n",
       "  </tbody>\n",
       "</table>\n",
       "</div>"
      ],
      "text/plain": [
       "           Algorithm  MSE_Score  RMSE_Score\n",
       "0          ADA BOOST  32.366441    5.689151\n",
       "1    ADA BOOST Tuned  31.717130    5.631796\n",
       "2  Linear Regression  49.209335    7.014937\n",
       "3      Random Forest  33.060850    5.749857\n",
       "4           RF Tuned  28.237097    5.313859\n",
       "5                XGB  31.134884    5.579864\n",
       "6                SVR  41.774906    6.463351"
      ]
     },
     "execution_count": 93,
     "metadata": {},
     "output_type": "execute_result"
    }
   ],
   "source": [
    "Comparison = pd.DataFrame(list(zip(Algorithm, MSE_Score, RMSE_Score)), columns = ['Algorithm', 'MSE_Score', 'RMSE_Score'])\n",
    "Comparison"
   ]
  },
  {
   "cell_type": "markdown",
   "metadata": {},
   "source": [
    "# Mapping features to null_test"
   ]
  },
  {
   "cell_type": "code",
   "execution_count": 94,
   "metadata": {},
   "outputs": [
    {
     "data": {
      "text/plain": [
       "business_code                5\n",
       "cust_number                451\n",
       "name_customer             1105\n",
       "clear_date                   0\n",
       "business_year                1\n",
       "document_create_date        86\n",
       "document_create_date.1      82\n",
       "due_in_date                119\n",
       "invoice_currency             2\n",
       "total_open_amount         3867\n",
       "baseline_create_date        83\n",
       "cust_payment_terms          32\n",
       "invoice_id                4077\n",
       "isOpen                       1\n",
       "dtype: int64"
      ]
     },
     "execution_count": 94,
     "metadata": {},
     "output_type": "execute_result"
    }
   ],
   "source": [
    "null_test.nunique()"
   ]
  },
  {
   "cell_type": "code",
   "execution_count": 95,
   "metadata": {},
   "outputs": [],
   "source": [
    "null_test.drop(['isOpen','business_year'],axis=1,inplace=True)"
   ]
  },
  {
   "cell_type": "code",
   "execution_count": 96,
   "metadata": {},
   "outputs": [],
   "source": [
    "df2=train_set.groupby('cust_payment_terms').agg({'invoice_id':'count'}).reset_index()\n",
    "cust_payment_list=df2[df2.invoice_id>3].cust_payment_terms.unique() \n",
    "#non-rare\n",
    "null_test['cust_payment_list']=np.where(null_test.cust_payment_terms.isin(cust_payment_list),null_test.cust_payment_terms,'others')\n",
    "\n",
    "df1=null_test.groupby('cust_number').agg({'invoice_id':'count'}).reset_index()\n",
    "\n",
    "cust_list=df1[df1.invoice_id>5].cust_number.unique() \n",
    "\n",
    "null_test['cust_list']=np.where(null_test.cust_number.isin(cust_list),null_test.cust_number,'others')\n",
    "\n",
    "null_test['cust_list'].astype(str)\n",
    "null_test['cust_list_encoded']=le_cust_num.transform(null_test['cust_list'])\n",
    "\n",
    "null_test['business_code'].astype(str)\n",
    "null_test['business_code_encoded']=le_business_code.transform(null_test['business_code'])\n",
    "\n",
    "null_test['invoice_currency'].astype(str)\n",
    "null_test['invoice_currency_encoded']=label_invoice_currency.transform(null_test['invoice_currency'])\n",
    "\n",
    "null_test['cust_payment_list'].astype(str)\n",
    "null_test['cust_payment_list_encoded']=le_cust_pay_terms.transform(null_test['cust_payment_list'])"
   ]
  },
  {
   "cell_type": "code",
   "execution_count": 97,
   "metadata": {},
   "outputs": [],
   "source": [
    "train_set['total_open_amount'] = train_set['total_open_amount'].astype('float32')"
   ]
  },
  {
   "cell_type": "code",
   "execution_count": 98,
   "metadata": {},
   "outputs": [],
   "source": [
    "null_test['total_open_amount_power']=boxcox_scaler_amount.transform(null_test[['total_open_amount']])"
   ]
  },
  {
   "cell_type": "code",
   "execution_count": 99,
   "metadata": {},
   "outputs": [],
   "source": [
    "null_test['due_in_month'] = null_test['due_in_date'].dt.month\n",
    "null_test['document_create_month'] = null_test['document_create_date.1'].dt.month\n",
    "\n",
    "null_test['due_in_day'] = null_test['due_in_date'].dt.day\n",
    "null_test['document_create_day'] = null_test['document_create_date.1'].dt.day\n",
    "\n",
    "null_test['due_in_weekday'] = null_test['due_in_date'].dt.weekday\n",
    "null_test['document_create_weekday'] = null_test['document_create_date.1'].dt.weekday\n",
    "\n",
    "null_test['due_in_quarter'] = null_test['due_in_date'].dt.quarter\n",
    "null_test['document_create_quarter'] = null_test['document_create_date.1'].dt.quarter\n",
    "\n",
    "null_test['DueDay_is_24']=np.where(null_test['due_in_date'].dt.day==24,1,0)\n",
    "null_test['DueWeekDay_is_5']=np.where(null_test['due_in_date'].dt.weekday==5,1,0)\n",
    "null_test['DueQuarter_is_1']=np.where(null_test['due_in_date'].dt.quarter==1,1,0)"
   ]
  },
  {
   "cell_type": "markdown",
   "metadata": {},
   "source": [
    "## Predicting delay of null data"
   ]
  },
  {
   "cell_type": "code",
   "execution_count": 100,
   "metadata": {},
   "outputs": [],
   "source": [
    "null_x_train = null_test[['cust_list_encoded','cust_payment_list_encoded', 'due_in_day',\n",
    "       'document_create_day', 'due_in_weekday', 'document_create_weekday',\n",
    "       'total_open_amount_power']]"
   ]
  },
  {
   "cell_type": "code",
   "execution_count": 101,
   "metadata": {},
   "outputs": [],
   "source": [
    "ada = AdaBoostRegressor(base_estimator=DecisionTreeRegressor(), loss='square', random_state=1, n_estimators=100)\n",
    "ada.fit(x_train2, y_train2)\n",
    "ada.score(x_train2, y_train2)\n",
    "null_test['delay'] = ada.predict(null_x_train)"
   ]
  },
  {
   "cell_type": "markdown",
   "metadata": {},
   "source": [
    "### null_test with predicted delay column"
   ]
  },
  {
   "cell_type": "code",
   "execution_count": 102,
   "metadata": {},
   "outputs": [
    {
     "data": {
      "text/html": [
       "<div>\n",
       "<style scoped>\n",
       "    .dataframe tbody tr th:only-of-type {\n",
       "        vertical-align: middle;\n",
       "    }\n",
       "\n",
       "    .dataframe tbody tr th {\n",
       "        vertical-align: top;\n",
       "    }\n",
       "\n",
       "    .dataframe thead th {\n",
       "        text-align: right;\n",
       "    }\n",
       "</style>\n",
       "<table border=\"1\" class=\"dataframe\">\n",
       "  <thead>\n",
       "    <tr style=\"text-align: right;\">\n",
       "      <th></th>\n",
       "      <th>business_code</th>\n",
       "      <th>cust_number</th>\n",
       "      <th>name_customer</th>\n",
       "      <th>clear_date</th>\n",
       "      <th>document_create_date</th>\n",
       "      <th>document_create_date.1</th>\n",
       "      <th>due_in_date</th>\n",
       "      <th>invoice_currency</th>\n",
       "      <th>total_open_amount</th>\n",
       "      <th>baseline_create_date</th>\n",
       "      <th>...</th>\n",
       "      <th>due_in_day</th>\n",
       "      <th>document_create_day</th>\n",
       "      <th>due_in_weekday</th>\n",
       "      <th>document_create_weekday</th>\n",
       "      <th>due_in_quarter</th>\n",
       "      <th>document_create_quarter</th>\n",
       "      <th>DueDay_is_24</th>\n",
       "      <th>DueWeekDay_is_5</th>\n",
       "      <th>DueQuarter_is_1</th>\n",
       "      <th>delay</th>\n",
       "    </tr>\n",
       "  </thead>\n",
       "  <tbody>\n",
       "    <tr>\n",
       "      <th>0</th>\n",
       "      <td>U001</td>\n",
       "      <td>200769623</td>\n",
       "      <td>WAL-MAR us</td>\n",
       "      <td>NaT</td>\n",
       "      <td>2020-04-06</td>\n",
       "      <td>2020-04-08</td>\n",
       "      <td>2020-04-23</td>\n",
       "      <td>USD</td>\n",
       "      <td>4880.18</td>\n",
       "      <td>2020-04-08</td>\n",
       "      <td>...</td>\n",
       "      <td>23</td>\n",
       "      <td>8</td>\n",
       "      <td>3</td>\n",
       "      <td>2</td>\n",
       "      <td>2</td>\n",
       "      <td>2</td>\n",
       "      <td>0</td>\n",
       "      <td>0</td>\n",
       "      <td>0</td>\n",
       "      <td>-1.0</td>\n",
       "    </tr>\n",
       "    <tr>\n",
       "      <th>1</th>\n",
       "      <td>U001</td>\n",
       "      <td>0200748108</td>\n",
       "      <td>KROGER llc</td>\n",
       "      <td>NaT</td>\n",
       "      <td>2020-03-18</td>\n",
       "      <td>2020-03-18</td>\n",
       "      <td>2020-04-02</td>\n",
       "      <td>USD</td>\n",
       "      <td>54758.6</td>\n",
       "      <td>2020-03-18</td>\n",
       "      <td>...</td>\n",
       "      <td>2</td>\n",
       "      <td>18</td>\n",
       "      <td>3</td>\n",
       "      <td>2</td>\n",
       "      <td>2</td>\n",
       "      <td>1</td>\n",
       "      <td>0</td>\n",
       "      <td>0</td>\n",
       "      <td>0</td>\n",
       "      <td>0.0</td>\n",
       "    </tr>\n",
       "    <tr>\n",
       "      <th>2</th>\n",
       "      <td>U001</td>\n",
       "      <td>0200759878</td>\n",
       "      <td>SA</td>\n",
       "      <td>NaT</td>\n",
       "      <td>2020-03-16</td>\n",
       "      <td>2020-03-16</td>\n",
       "      <td>2020-05-20</td>\n",
       "      <td>USD</td>\n",
       "      <td>1063.8</td>\n",
       "      <td>2020-03-16</td>\n",
       "      <td>...</td>\n",
       "      <td>20</td>\n",
       "      <td>16</td>\n",
       "      <td>2</td>\n",
       "      <td>0</td>\n",
       "      <td>2</td>\n",
       "      <td>1</td>\n",
       "      <td>0</td>\n",
       "      <td>0</td>\n",
       "      <td>0</td>\n",
       "      <td>0.0</td>\n",
       "    </tr>\n",
       "    <tr>\n",
       "      <th>3</th>\n",
       "      <td>U001</td>\n",
       "      <td>0100031704</td>\n",
       "      <td>DELHAIZE associates</td>\n",
       "      <td>NaT</td>\n",
       "      <td>2020-04-27</td>\n",
       "      <td>2020-04-28</td>\n",
       "      <td>2020-05-13</td>\n",
       "      <td>USD</td>\n",
       "      <td>75138.1</td>\n",
       "      <td>2020-04-28</td>\n",
       "      <td>...</td>\n",
       "      <td>13</td>\n",
       "      <td>28</td>\n",
       "      <td>2</td>\n",
       "      <td>1</td>\n",
       "      <td>2</td>\n",
       "      <td>2</td>\n",
       "      <td>0</td>\n",
       "      <td>0</td>\n",
       "      <td>0</td>\n",
       "      <td>0.0</td>\n",
       "    </tr>\n",
       "    <tr>\n",
       "      <th>4</th>\n",
       "      <td>U001</td>\n",
       "      <td>0200769623</td>\n",
       "      <td>WAL-MAR</td>\n",
       "      <td>NaT</td>\n",
       "      <td>2020-05-08</td>\n",
       "      <td>2020-05-10</td>\n",
       "      <td>2020-05-25</td>\n",
       "      <td>USD</td>\n",
       "      <td>28666.2</td>\n",
       "      <td>2020-05-10</td>\n",
       "      <td>...</td>\n",
       "      <td>25</td>\n",
       "      <td>10</td>\n",
       "      <td>0</td>\n",
       "      <td>6</td>\n",
       "      <td>2</td>\n",
       "      <td>2</td>\n",
       "      <td>0</td>\n",
       "      <td>0</td>\n",
       "      <td>0</td>\n",
       "      <td>-2.0</td>\n",
       "    </tr>\n",
       "    <tr>\n",
       "      <th>...</th>\n",
       "      <td>...</td>\n",
       "      <td>...</td>\n",
       "      <td>...</td>\n",
       "      <td>...</td>\n",
       "      <td>...</td>\n",
       "      <td>...</td>\n",
       "      <td>...</td>\n",
       "      <td>...</td>\n",
       "      <td>...</td>\n",
       "      <td>...</td>\n",
       "      <td>...</td>\n",
       "      <td>...</td>\n",
       "      <td>...</td>\n",
       "      <td>...</td>\n",
       "      <td>...</td>\n",
       "      <td>...</td>\n",
       "      <td>...</td>\n",
       "      <td>...</td>\n",
       "      <td>...</td>\n",
       "      <td>...</td>\n",
       "      <td>...</td>\n",
       "    </tr>\n",
       "    <tr>\n",
       "      <th>4072</th>\n",
       "      <td>U001</td>\n",
       "      <td>0200020431</td>\n",
       "      <td>DEC llc</td>\n",
       "      <td>NaT</td>\n",
       "      <td>2020-04-08</td>\n",
       "      <td>2020-04-08</td>\n",
       "      <td>2020-04-24</td>\n",
       "      <td>USD</td>\n",
       "      <td>28324.8</td>\n",
       "      <td>2020-04-01</td>\n",
       "      <td>...</td>\n",
       "      <td>24</td>\n",
       "      <td>8</td>\n",
       "      <td>4</td>\n",
       "      <td>2</td>\n",
       "      <td>2</td>\n",
       "      <td>2</td>\n",
       "      <td>1</td>\n",
       "      <td>0</td>\n",
       "      <td>0</td>\n",
       "      <td>-8.0</td>\n",
       "    </tr>\n",
       "    <tr>\n",
       "      <th>4073</th>\n",
       "      <td>U001</td>\n",
       "      <td>0200881076</td>\n",
       "      <td>ALBERT trust</td>\n",
       "      <td>NaT</td>\n",
       "      <td>2020-03-11</td>\n",
       "      <td>2020-03-10</td>\n",
       "      <td>2020-05-14</td>\n",
       "      <td>USD</td>\n",
       "      <td>4537.98</td>\n",
       "      <td>2020-03-10</td>\n",
       "      <td>...</td>\n",
       "      <td>14</td>\n",
       "      <td>10</td>\n",
       "      <td>3</td>\n",
       "      <td>1</td>\n",
       "      <td>2</td>\n",
       "      <td>1</td>\n",
       "      <td>0</td>\n",
       "      <td>0</td>\n",
       "      <td>0</td>\n",
       "      <td>0.0</td>\n",
       "    </tr>\n",
       "    <tr>\n",
       "      <th>4074</th>\n",
       "      <td>U001</td>\n",
       "      <td>0200759878</td>\n",
       "      <td>SA</td>\n",
       "      <td>NaT</td>\n",
       "      <td>2020-04-18</td>\n",
       "      <td>2020-04-19</td>\n",
       "      <td>2020-05-04</td>\n",
       "      <td>USD</td>\n",
       "      <td>70895.6</td>\n",
       "      <td>2020-04-19</td>\n",
       "      <td>...</td>\n",
       "      <td>4</td>\n",
       "      <td>19</td>\n",
       "      <td>0</td>\n",
       "      <td>6</td>\n",
       "      <td>2</td>\n",
       "      <td>2</td>\n",
       "      <td>0</td>\n",
       "      <td>0</td>\n",
       "      <td>0</td>\n",
       "      <td>1.0</td>\n",
       "    </tr>\n",
       "    <tr>\n",
       "      <th>4075</th>\n",
       "      <td>U001</td>\n",
       "      <td>0200726979</td>\n",
       "      <td>BJ'S  in</td>\n",
       "      <td>NaT</td>\n",
       "      <td>2020-03-07</td>\n",
       "      <td>2020-03-08</td>\n",
       "      <td>2020-03-23</td>\n",
       "      <td>USD</td>\n",
       "      <td>534.89</td>\n",
       "      <td>2020-03-08</td>\n",
       "      <td>...</td>\n",
       "      <td>23</td>\n",
       "      <td>8</td>\n",
       "      <td>0</td>\n",
       "      <td>6</td>\n",
       "      <td>1</td>\n",
       "      <td>1</td>\n",
       "      <td>0</td>\n",
       "      <td>0</td>\n",
       "      <td>1</td>\n",
       "      <td>1.0</td>\n",
       "    </tr>\n",
       "    <tr>\n",
       "      <th>4076</th>\n",
       "      <td>U001</td>\n",
       "      <td>200769369</td>\n",
       "      <td>DI us</td>\n",
       "      <td>NaT</td>\n",
       "      <td>2020-05-05</td>\n",
       "      <td>2020-05-06</td>\n",
       "      <td>2020-05-21</td>\n",
       "      <td>USD</td>\n",
       "      <td>1509.31</td>\n",
       "      <td>2020-05-06</td>\n",
       "      <td>...</td>\n",
       "      <td>21</td>\n",
       "      <td>6</td>\n",
       "      <td>3</td>\n",
       "      <td>2</td>\n",
       "      <td>2</td>\n",
       "      <td>2</td>\n",
       "      <td>0</td>\n",
       "      <td>0</td>\n",
       "      <td>0</td>\n",
       "      <td>1.0</td>\n",
       "    </tr>\n",
       "  </tbody>\n",
       "</table>\n",
       "<p>4077 rows × 31 columns</p>\n",
       "</div>"
      ],
      "text/plain": [
       "     business_code cust_number        name_customer clear_date  \\\n",
       "0             U001   200769623           WAL-MAR us        NaT   \n",
       "1             U001  0200748108           KROGER llc        NaT   \n",
       "2             U001  0200759878                  SA         NaT   \n",
       "3             U001  0100031704  DELHAIZE associates        NaT   \n",
       "4             U001  0200769623             WAL-MAR         NaT   \n",
       "...            ...         ...                  ...        ...   \n",
       "4072          U001  0200020431              DEC llc        NaT   \n",
       "4073          U001  0200881076         ALBERT trust        NaT   \n",
       "4074          U001  0200759878                  SA         NaT   \n",
       "4075          U001  0200726979             BJ'S  in        NaT   \n",
       "4076          U001   200769369                DI us        NaT   \n",
       "\n",
       "     document_create_date document_create_date.1 due_in_date invoice_currency  \\\n",
       "0              2020-04-06             2020-04-08  2020-04-23              USD   \n",
       "1              2020-03-18             2020-03-18  2020-04-02              USD   \n",
       "2              2020-03-16             2020-03-16  2020-05-20              USD   \n",
       "3              2020-04-27             2020-04-28  2020-05-13              USD   \n",
       "4              2020-05-08             2020-05-10  2020-05-25              USD   \n",
       "...                   ...                    ...         ...              ...   \n",
       "4072           2020-04-08             2020-04-08  2020-04-24              USD   \n",
       "4073           2020-03-11             2020-03-10  2020-05-14              USD   \n",
       "4074           2020-04-18             2020-04-19  2020-05-04              USD   \n",
       "4075           2020-03-07             2020-03-08  2020-03-23              USD   \n",
       "4076           2020-05-05             2020-05-06  2020-05-21              USD   \n",
       "\n",
       "     total_open_amount baseline_create_date  ... due_in_day  \\\n",
       "0              4880.18           2020-04-08  ...         23   \n",
       "1              54758.6           2020-03-18  ...          2   \n",
       "2               1063.8           2020-03-16  ...         20   \n",
       "3              75138.1           2020-04-28  ...         13   \n",
       "4              28666.2           2020-05-10  ...         25   \n",
       "...                ...                  ...  ...        ...   \n",
       "4072           28324.8           2020-04-01  ...         24   \n",
       "4073           4537.98           2020-03-10  ...         14   \n",
       "4074           70895.6           2020-04-19  ...          4   \n",
       "4075            534.89           2020-03-08  ...         23   \n",
       "4076           1509.31           2020-05-06  ...         21   \n",
       "\n",
       "     document_create_day due_in_weekday document_create_weekday  \\\n",
       "0                      8              3                       2   \n",
       "1                     18              3                       2   \n",
       "2                     16              2                       0   \n",
       "3                     28              2                       1   \n",
       "4                     10              0                       6   \n",
       "...                  ...            ...                     ...   \n",
       "4072                   8              4                       2   \n",
       "4073                  10              3                       1   \n",
       "4074                  19              0                       6   \n",
       "4075                   8              0                       6   \n",
       "4076                   6              3                       2   \n",
       "\n",
       "      due_in_quarter  document_create_quarter  DueDay_is_24  DueWeekDay_is_5  \\\n",
       "0                  2                        2             0                0   \n",
       "1                  2                        1             0                0   \n",
       "2                  2                        1             0                0   \n",
       "3                  2                        2             0                0   \n",
       "4                  2                        2             0                0   \n",
       "...              ...                      ...           ...              ...   \n",
       "4072               2                        2             1                0   \n",
       "4073               2                        1             0                0   \n",
       "4074               2                        2             0                0   \n",
       "4075               1                        1             0                0   \n",
       "4076               2                        2             0                0   \n",
       "\n",
       "      DueQuarter_is_1  delay  \n",
       "0                   0   -1.0  \n",
       "1                   0    0.0  \n",
       "2                   0    0.0  \n",
       "3                   0    0.0  \n",
       "4                   0   -2.0  \n",
       "...               ...    ...  \n",
       "4072                0   -8.0  \n",
       "4073                0    0.0  \n",
       "4074                0    1.0  \n",
       "4075                1    1.0  \n",
       "4076                0    1.0  \n",
       "\n",
       "[4077 rows x 31 columns]"
      ]
     },
     "execution_count": 102,
     "metadata": {},
     "output_type": "execute_result"
    }
   ],
   "source": [
    "null_test"
   ]
  },
  {
   "cell_type": "markdown",
   "metadata": {},
   "source": [
    "## Predicting clear_date using the predicted delay column and due_in_date"
   ]
  },
  {
   "cell_type": "code",
   "execution_count": 103,
   "metadata": {},
   "outputs": [],
   "source": [
    "null_test['clear_date'] = null_test['due_in_date'] + pd.to_timedelta(null_test['delay'], unit='D')"
   ]
  },
  {
   "cell_type": "code",
   "execution_count": 104,
   "metadata": {},
   "outputs": [
    {
     "data": {
      "text/html": [
       "<div>\n",
       "<style scoped>\n",
       "    .dataframe tbody tr th:only-of-type {\n",
       "        vertical-align: middle;\n",
       "    }\n",
       "\n",
       "    .dataframe tbody tr th {\n",
       "        vertical-align: top;\n",
       "    }\n",
       "\n",
       "    .dataframe thead th {\n",
       "        text-align: right;\n",
       "    }\n",
       "</style>\n",
       "<table border=\"1\" class=\"dataframe\">\n",
       "  <thead>\n",
       "    <tr style=\"text-align: right;\">\n",
       "      <th></th>\n",
       "      <th>due_in_date</th>\n",
       "      <th>clear_date</th>\n",
       "    </tr>\n",
       "  </thead>\n",
       "  <tbody>\n",
       "    <tr>\n",
       "      <th>0</th>\n",
       "      <td>2020-04-23</td>\n",
       "      <td>2020-04-22</td>\n",
       "    </tr>\n",
       "    <tr>\n",
       "      <th>1</th>\n",
       "      <td>2020-04-02</td>\n",
       "      <td>2020-04-02</td>\n",
       "    </tr>\n",
       "    <tr>\n",
       "      <th>2</th>\n",
       "      <td>2020-05-20</td>\n",
       "      <td>2020-05-20</td>\n",
       "    </tr>\n",
       "    <tr>\n",
       "      <th>3</th>\n",
       "      <td>2020-05-13</td>\n",
       "      <td>2020-05-13</td>\n",
       "    </tr>\n",
       "    <tr>\n",
       "      <th>4</th>\n",
       "      <td>2020-05-25</td>\n",
       "      <td>2020-05-23</td>\n",
       "    </tr>\n",
       "    <tr>\n",
       "      <th>...</th>\n",
       "      <td>...</td>\n",
       "      <td>...</td>\n",
       "    </tr>\n",
       "    <tr>\n",
       "      <th>4072</th>\n",
       "      <td>2020-04-24</td>\n",
       "      <td>2020-04-16</td>\n",
       "    </tr>\n",
       "    <tr>\n",
       "      <th>4073</th>\n",
       "      <td>2020-05-14</td>\n",
       "      <td>2020-05-14</td>\n",
       "    </tr>\n",
       "    <tr>\n",
       "      <th>4074</th>\n",
       "      <td>2020-05-04</td>\n",
       "      <td>2020-05-05</td>\n",
       "    </tr>\n",
       "    <tr>\n",
       "      <th>4075</th>\n",
       "      <td>2020-03-23</td>\n",
       "      <td>2020-03-24</td>\n",
       "    </tr>\n",
       "    <tr>\n",
       "      <th>4076</th>\n",
       "      <td>2020-05-21</td>\n",
       "      <td>2020-05-22</td>\n",
       "    </tr>\n",
       "  </tbody>\n",
       "</table>\n",
       "<p>4077 rows × 2 columns</p>\n",
       "</div>"
      ],
      "text/plain": [
       "     due_in_date clear_date\n",
       "0     2020-04-23 2020-04-22\n",
       "1     2020-04-02 2020-04-02\n",
       "2     2020-05-20 2020-05-20\n",
       "3     2020-05-13 2020-05-13\n",
       "4     2020-05-25 2020-05-23\n",
       "...          ...        ...\n",
       "4072  2020-04-24 2020-04-16\n",
       "4073  2020-05-14 2020-05-14\n",
       "4074  2020-05-04 2020-05-05\n",
       "4075  2020-03-23 2020-03-24\n",
       "4076  2020-05-21 2020-05-22\n",
       "\n",
       "[4077 rows x 2 columns]"
      ]
     },
     "execution_count": 104,
     "metadata": {},
     "output_type": "execute_result"
    }
   ],
   "source": [
    "null_test[['due_in_date','clear_date']]"
   ]
  },
  {
   "cell_type": "markdown",
   "metadata": {},
   "source": [
    "## creating buckets for given delay ranges in problem statements"
   ]
  },
  {
   "cell_type": "code",
   "execution_count": 105,
   "metadata": {},
   "outputs": [],
   "source": [
    "def bucketize(x):\n",
    "    if x<=0:\n",
    "        return 1\n",
    "    if x>0 and x<=15:\n",
    "        return 2\n",
    "    if x>15 and x<=30:\n",
    "        return 3\n",
    "    if x>30 and x<=45:\n",
    "        return 4\n",
    "    if x>45 and x<=60:\n",
    "        return 5   "
   ]
  },
  {
   "cell_type": "markdown",
   "metadata": {},
   "source": [
    "### Putting the values for bucket column by applying the above function created to bucketize "
   ]
  },
  {
   "cell_type": "code",
   "execution_count": 106,
   "metadata": {},
   "outputs": [],
   "source": [
    "null_test['bucket'] = null_test.apply(lambda row : bucketize(row['delay']), axis = 1) "
   ]
  },
  {
   "cell_type": "markdown",
   "metadata": {},
   "source": [
    "# Final Output"
   ]
  },
  {
   "cell_type": "code",
   "execution_count": 107,
   "metadata": {},
   "outputs": [
    {
     "data": {
      "text/html": [
       "<div>\n",
       "<style scoped>\n",
       "    .dataframe tbody tr th:only-of-type {\n",
       "        vertical-align: middle;\n",
       "    }\n",
       "\n",
       "    .dataframe tbody tr th {\n",
       "        vertical-align: top;\n",
       "    }\n",
       "\n",
       "    .dataframe thead th {\n",
       "        text-align: right;\n",
       "    }\n",
       "</style>\n",
       "<table border=\"1\" class=\"dataframe\">\n",
       "  <thead>\n",
       "    <tr style=\"text-align: right;\">\n",
       "      <th></th>\n",
       "      <th>business_code</th>\n",
       "      <th>cust_number</th>\n",
       "      <th>name_customer</th>\n",
       "      <th>clear_date</th>\n",
       "      <th>document_create_date</th>\n",
       "      <th>document_create_date.1</th>\n",
       "      <th>due_in_date</th>\n",
       "      <th>invoice_currency</th>\n",
       "      <th>total_open_amount</th>\n",
       "      <th>baseline_create_date</th>\n",
       "      <th>...</th>\n",
       "      <th>document_create_day</th>\n",
       "      <th>due_in_weekday</th>\n",
       "      <th>document_create_weekday</th>\n",
       "      <th>due_in_quarter</th>\n",
       "      <th>document_create_quarter</th>\n",
       "      <th>DueDay_is_24</th>\n",
       "      <th>DueWeekDay_is_5</th>\n",
       "      <th>DueQuarter_is_1</th>\n",
       "      <th>delay</th>\n",
       "      <th>bucket</th>\n",
       "    </tr>\n",
       "  </thead>\n",
       "  <tbody>\n",
       "    <tr>\n",
       "      <th>0</th>\n",
       "      <td>U001</td>\n",
       "      <td>200769623</td>\n",
       "      <td>WAL-MAR us</td>\n",
       "      <td>2020-04-22</td>\n",
       "      <td>2020-04-06</td>\n",
       "      <td>2020-04-08</td>\n",
       "      <td>2020-04-23</td>\n",
       "      <td>USD</td>\n",
       "      <td>4880.18</td>\n",
       "      <td>2020-04-08</td>\n",
       "      <td>...</td>\n",
       "      <td>8</td>\n",
       "      <td>3</td>\n",
       "      <td>2</td>\n",
       "      <td>2</td>\n",
       "      <td>2</td>\n",
       "      <td>0</td>\n",
       "      <td>0</td>\n",
       "      <td>0</td>\n",
       "      <td>-1.0</td>\n",
       "      <td>1.0</td>\n",
       "    </tr>\n",
       "    <tr>\n",
       "      <th>1</th>\n",
       "      <td>U001</td>\n",
       "      <td>0200748108</td>\n",
       "      <td>KROGER llc</td>\n",
       "      <td>2020-04-02</td>\n",
       "      <td>2020-03-18</td>\n",
       "      <td>2020-03-18</td>\n",
       "      <td>2020-04-02</td>\n",
       "      <td>USD</td>\n",
       "      <td>54758.6</td>\n",
       "      <td>2020-03-18</td>\n",
       "      <td>...</td>\n",
       "      <td>18</td>\n",
       "      <td>3</td>\n",
       "      <td>2</td>\n",
       "      <td>2</td>\n",
       "      <td>1</td>\n",
       "      <td>0</td>\n",
       "      <td>0</td>\n",
       "      <td>0</td>\n",
       "      <td>0.0</td>\n",
       "      <td>1.0</td>\n",
       "    </tr>\n",
       "    <tr>\n",
       "      <th>2</th>\n",
       "      <td>U001</td>\n",
       "      <td>0200759878</td>\n",
       "      <td>SA</td>\n",
       "      <td>2020-05-20</td>\n",
       "      <td>2020-03-16</td>\n",
       "      <td>2020-03-16</td>\n",
       "      <td>2020-05-20</td>\n",
       "      <td>USD</td>\n",
       "      <td>1063.8</td>\n",
       "      <td>2020-03-16</td>\n",
       "      <td>...</td>\n",
       "      <td>16</td>\n",
       "      <td>2</td>\n",
       "      <td>0</td>\n",
       "      <td>2</td>\n",
       "      <td>1</td>\n",
       "      <td>0</td>\n",
       "      <td>0</td>\n",
       "      <td>0</td>\n",
       "      <td>0.0</td>\n",
       "      <td>1.0</td>\n",
       "    </tr>\n",
       "    <tr>\n",
       "      <th>3</th>\n",
       "      <td>U001</td>\n",
       "      <td>0100031704</td>\n",
       "      <td>DELHAIZE associates</td>\n",
       "      <td>2020-05-13</td>\n",
       "      <td>2020-04-27</td>\n",
       "      <td>2020-04-28</td>\n",
       "      <td>2020-05-13</td>\n",
       "      <td>USD</td>\n",
       "      <td>75138.1</td>\n",
       "      <td>2020-04-28</td>\n",
       "      <td>...</td>\n",
       "      <td>28</td>\n",
       "      <td>2</td>\n",
       "      <td>1</td>\n",
       "      <td>2</td>\n",
       "      <td>2</td>\n",
       "      <td>0</td>\n",
       "      <td>0</td>\n",
       "      <td>0</td>\n",
       "      <td>0.0</td>\n",
       "      <td>1.0</td>\n",
       "    </tr>\n",
       "    <tr>\n",
       "      <th>4</th>\n",
       "      <td>U001</td>\n",
       "      <td>0200769623</td>\n",
       "      <td>WAL-MAR</td>\n",
       "      <td>2020-05-23</td>\n",
       "      <td>2020-05-08</td>\n",
       "      <td>2020-05-10</td>\n",
       "      <td>2020-05-25</td>\n",
       "      <td>USD</td>\n",
       "      <td>28666.2</td>\n",
       "      <td>2020-05-10</td>\n",
       "      <td>...</td>\n",
       "      <td>10</td>\n",
       "      <td>0</td>\n",
       "      <td>6</td>\n",
       "      <td>2</td>\n",
       "      <td>2</td>\n",
       "      <td>0</td>\n",
       "      <td>0</td>\n",
       "      <td>0</td>\n",
       "      <td>-2.0</td>\n",
       "      <td>1.0</td>\n",
       "    </tr>\n",
       "    <tr>\n",
       "      <th>...</th>\n",
       "      <td>...</td>\n",
       "      <td>...</td>\n",
       "      <td>...</td>\n",
       "      <td>...</td>\n",
       "      <td>...</td>\n",
       "      <td>...</td>\n",
       "      <td>...</td>\n",
       "      <td>...</td>\n",
       "      <td>...</td>\n",
       "      <td>...</td>\n",
       "      <td>...</td>\n",
       "      <td>...</td>\n",
       "      <td>...</td>\n",
       "      <td>...</td>\n",
       "      <td>...</td>\n",
       "      <td>...</td>\n",
       "      <td>...</td>\n",
       "      <td>...</td>\n",
       "      <td>...</td>\n",
       "      <td>...</td>\n",
       "      <td>...</td>\n",
       "    </tr>\n",
       "    <tr>\n",
       "      <th>4072</th>\n",
       "      <td>U001</td>\n",
       "      <td>0200020431</td>\n",
       "      <td>DEC llc</td>\n",
       "      <td>2020-04-16</td>\n",
       "      <td>2020-04-08</td>\n",
       "      <td>2020-04-08</td>\n",
       "      <td>2020-04-24</td>\n",
       "      <td>USD</td>\n",
       "      <td>28324.8</td>\n",
       "      <td>2020-04-01</td>\n",
       "      <td>...</td>\n",
       "      <td>8</td>\n",
       "      <td>4</td>\n",
       "      <td>2</td>\n",
       "      <td>2</td>\n",
       "      <td>2</td>\n",
       "      <td>1</td>\n",
       "      <td>0</td>\n",
       "      <td>0</td>\n",
       "      <td>-8.0</td>\n",
       "      <td>1.0</td>\n",
       "    </tr>\n",
       "    <tr>\n",
       "      <th>4073</th>\n",
       "      <td>U001</td>\n",
       "      <td>0200881076</td>\n",
       "      <td>ALBERT trust</td>\n",
       "      <td>2020-05-14</td>\n",
       "      <td>2020-03-11</td>\n",
       "      <td>2020-03-10</td>\n",
       "      <td>2020-05-14</td>\n",
       "      <td>USD</td>\n",
       "      <td>4537.98</td>\n",
       "      <td>2020-03-10</td>\n",
       "      <td>...</td>\n",
       "      <td>10</td>\n",
       "      <td>3</td>\n",
       "      <td>1</td>\n",
       "      <td>2</td>\n",
       "      <td>1</td>\n",
       "      <td>0</td>\n",
       "      <td>0</td>\n",
       "      <td>0</td>\n",
       "      <td>0.0</td>\n",
       "      <td>1.0</td>\n",
       "    </tr>\n",
       "    <tr>\n",
       "      <th>4074</th>\n",
       "      <td>U001</td>\n",
       "      <td>0200759878</td>\n",
       "      <td>SA</td>\n",
       "      <td>2020-05-05</td>\n",
       "      <td>2020-04-18</td>\n",
       "      <td>2020-04-19</td>\n",
       "      <td>2020-05-04</td>\n",
       "      <td>USD</td>\n",
       "      <td>70895.6</td>\n",
       "      <td>2020-04-19</td>\n",
       "      <td>...</td>\n",
       "      <td>19</td>\n",
       "      <td>0</td>\n",
       "      <td>6</td>\n",
       "      <td>2</td>\n",
       "      <td>2</td>\n",
       "      <td>0</td>\n",
       "      <td>0</td>\n",
       "      <td>0</td>\n",
       "      <td>1.0</td>\n",
       "      <td>2.0</td>\n",
       "    </tr>\n",
       "    <tr>\n",
       "      <th>4075</th>\n",
       "      <td>U001</td>\n",
       "      <td>0200726979</td>\n",
       "      <td>BJ'S  in</td>\n",
       "      <td>2020-03-24</td>\n",
       "      <td>2020-03-07</td>\n",
       "      <td>2020-03-08</td>\n",
       "      <td>2020-03-23</td>\n",
       "      <td>USD</td>\n",
       "      <td>534.89</td>\n",
       "      <td>2020-03-08</td>\n",
       "      <td>...</td>\n",
       "      <td>8</td>\n",
       "      <td>0</td>\n",
       "      <td>6</td>\n",
       "      <td>1</td>\n",
       "      <td>1</td>\n",
       "      <td>0</td>\n",
       "      <td>0</td>\n",
       "      <td>1</td>\n",
       "      <td>1.0</td>\n",
       "      <td>2.0</td>\n",
       "    </tr>\n",
       "    <tr>\n",
       "      <th>4076</th>\n",
       "      <td>U001</td>\n",
       "      <td>200769369</td>\n",
       "      <td>DI us</td>\n",
       "      <td>2020-05-22</td>\n",
       "      <td>2020-05-05</td>\n",
       "      <td>2020-05-06</td>\n",
       "      <td>2020-05-21</td>\n",
       "      <td>USD</td>\n",
       "      <td>1509.31</td>\n",
       "      <td>2020-05-06</td>\n",
       "      <td>...</td>\n",
       "      <td>6</td>\n",
       "      <td>3</td>\n",
       "      <td>2</td>\n",
       "      <td>2</td>\n",
       "      <td>2</td>\n",
       "      <td>0</td>\n",
       "      <td>0</td>\n",
       "      <td>0</td>\n",
       "      <td>1.0</td>\n",
       "      <td>2.0</td>\n",
       "    </tr>\n",
       "  </tbody>\n",
       "</table>\n",
       "<p>4077 rows × 32 columns</p>\n",
       "</div>"
      ],
      "text/plain": [
       "     business_code cust_number        name_customer clear_date  \\\n",
       "0             U001   200769623           WAL-MAR us 2020-04-22   \n",
       "1             U001  0200748108           KROGER llc 2020-04-02   \n",
       "2             U001  0200759878                  SA  2020-05-20   \n",
       "3             U001  0100031704  DELHAIZE associates 2020-05-13   \n",
       "4             U001  0200769623             WAL-MAR  2020-05-23   \n",
       "...            ...         ...                  ...        ...   \n",
       "4072          U001  0200020431              DEC llc 2020-04-16   \n",
       "4073          U001  0200881076         ALBERT trust 2020-05-14   \n",
       "4074          U001  0200759878                  SA  2020-05-05   \n",
       "4075          U001  0200726979             BJ'S  in 2020-03-24   \n",
       "4076          U001   200769369                DI us 2020-05-22   \n",
       "\n",
       "     document_create_date document_create_date.1 due_in_date invoice_currency  \\\n",
       "0              2020-04-06             2020-04-08  2020-04-23              USD   \n",
       "1              2020-03-18             2020-03-18  2020-04-02              USD   \n",
       "2              2020-03-16             2020-03-16  2020-05-20              USD   \n",
       "3              2020-04-27             2020-04-28  2020-05-13              USD   \n",
       "4              2020-05-08             2020-05-10  2020-05-25              USD   \n",
       "...                   ...                    ...         ...              ...   \n",
       "4072           2020-04-08             2020-04-08  2020-04-24              USD   \n",
       "4073           2020-03-11             2020-03-10  2020-05-14              USD   \n",
       "4074           2020-04-18             2020-04-19  2020-05-04              USD   \n",
       "4075           2020-03-07             2020-03-08  2020-03-23              USD   \n",
       "4076           2020-05-05             2020-05-06  2020-05-21              USD   \n",
       "\n",
       "     total_open_amount baseline_create_date  ... document_create_day  \\\n",
       "0              4880.18           2020-04-08  ...                   8   \n",
       "1              54758.6           2020-03-18  ...                  18   \n",
       "2               1063.8           2020-03-16  ...                  16   \n",
       "3              75138.1           2020-04-28  ...                  28   \n",
       "4              28666.2           2020-05-10  ...                  10   \n",
       "...                ...                  ...  ...                 ...   \n",
       "4072           28324.8           2020-04-01  ...                   8   \n",
       "4073           4537.98           2020-03-10  ...                  10   \n",
       "4074           70895.6           2020-04-19  ...                  19   \n",
       "4075            534.89           2020-03-08  ...                   8   \n",
       "4076           1509.31           2020-05-06  ...                   6   \n",
       "\n",
       "     due_in_weekday document_create_weekday due_in_quarter  \\\n",
       "0                 3                       2              2   \n",
       "1                 3                       2              2   \n",
       "2                 2                       0              2   \n",
       "3                 2                       1              2   \n",
       "4                 0                       6              2   \n",
       "...             ...                     ...            ...   \n",
       "4072              4                       2              2   \n",
       "4073              3                       1              2   \n",
       "4074              0                       6              2   \n",
       "4075              0                       6              1   \n",
       "4076              3                       2              2   \n",
       "\n",
       "      document_create_quarter  DueDay_is_24  DueWeekDay_is_5  DueQuarter_is_1  \\\n",
       "0                           2             0                0                0   \n",
       "1                           1             0                0                0   \n",
       "2                           1             0                0                0   \n",
       "3                           2             0                0                0   \n",
       "4                           2             0                0                0   \n",
       "...                       ...           ...              ...              ...   \n",
       "4072                        2             1                0                0   \n",
       "4073                        1             0                0                0   \n",
       "4074                        2             0                0                0   \n",
       "4075                        1             0                0                1   \n",
       "4076                        2             0                0                0   \n",
       "\n",
       "      delay  bucket  \n",
       "0      -1.0     1.0  \n",
       "1       0.0     1.0  \n",
       "2       0.0     1.0  \n",
       "3       0.0     1.0  \n",
       "4      -2.0     1.0  \n",
       "...     ...     ...  \n",
       "4072   -8.0     1.0  \n",
       "4073    0.0     1.0  \n",
       "4074    1.0     2.0  \n",
       "4075    1.0     2.0  \n",
       "4076    1.0     2.0  \n",
       "\n",
       "[4077 rows x 32 columns]"
      ]
     },
     "execution_count": 107,
     "metadata": {},
     "output_type": "execute_result"
    }
   ],
   "source": [
    "null_test"
   ]
  },
  {
   "cell_type": "code",
   "execution_count": 108,
   "metadata": {},
   "outputs": [],
   "source": [
    "import pickle "
   ]
  },
  {
   "cell_type": "code",
   "execution_count": 109,
   "metadata": {},
   "outputs": [],
   "source": [
    "filename = \"1805464.pkl\""
   ]
  },
  {
   "cell_type": "code",
   "execution_count": 110,
   "metadata": {},
   "outputs": [],
   "source": [
    "pickle.dump(ada,open(filename,'wb'))"
   ]
  },
  {
   "cell_type": "code",
   "execution_count": null,
   "metadata": {},
   "outputs": [],
   "source": []
  }
 ],
 "metadata": {
  "kernelspec": {
   "display_name": "Python 3",
   "language": "python",
   "name": "python3"
  },
  "language_info": {
   "codemirror_mode": {
    "name": "ipython",
    "version": 3
   },
   "file_extension": ".py",
   "mimetype": "text/x-python",
   "name": "python",
   "nbconvert_exporter": "python",
   "pygments_lexer": "ipython3",
   "version": "3.8.3"
  }
 },
 "nbformat": 4,
 "nbformat_minor": 4
}
